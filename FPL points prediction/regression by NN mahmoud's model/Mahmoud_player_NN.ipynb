{
  "cells": [
    {
      "cell_type": "code",
      "execution_count": null,
      "metadata": {
        "colab": {
          "base_uri": "https://localhost:8080/"
        },
        "id": "nNWYByRBFKwo",
        "outputId": "1d522b96-60e5-4d90-c96f-859cf5ae3a82"
      },
      "outputs": [
        {
          "output_type": "stream",
          "name": "stdout",
          "text": [
            "\u001b[K     |████████████████████████████████| 135 kB 38.2 MB/s \n",
            "\u001b[K     |████████████████████████████████| 1.6 MB 54.7 MB/s \n",
            "\u001b[?25h"
          ]
        }
      ],
      "source": [
        "!pip install -q -U keras-tuner"
      ]
    },
    {
      "cell_type": "code",
      "execution_count": null,
      "metadata": {
        "id": "62UL7gPZY8On"
      },
      "outputs": [],
      "source": [
        "import pandas as pd\n",
        "import numpy as np\n",
        "from sklearn.model_selection import train_test_split\n",
        "import tensorflow as tf\n",
        "from keras.utils import np_utils\n",
        "from sklearn.preprocessing import LabelEncoder\n",
        "from tensorflow import keras\n",
        "from tensorflow.keras import layers\n",
        "import matplotlib.pyplot as plt \n",
        "from sklearn.model_selection import GridSearchCV,KFold\n",
        "from sklearn.metrics import accuracy_score, precision_score, recall_score\n",
        "from sklearn.metrics import make_scorer\n",
        "import keras_tuner as kt\n",
        "from tensorflow.python import metrics"
      ]
    },
    {
      "cell_type": "markdown",
      "metadata": {
        "id": "-Bb9oigiMAJL"
      },
      "source": [
        "# Model Implementation"
      ]
    },
    {
      "cell_type": "markdown",
      "metadata": {
        "id": "1XYv1wT9MX0A"
      },
      "source": [
        "**Read file**"
      ]
    },
    {
      "cell_type": "code",
      "execution_count": null,
      "metadata": {
        "id": "FGXaVEOwMFPv"
      },
      "outputs": [],
      "source": [
        "df=pd.read_csv(\"/content/players_data.csv\")"
      ]
    },
    {
      "cell_type": "code",
      "execution_count": null,
      "metadata": {
        "colab": {
          "base_uri": "https://localhost:8080/",
          "height": 404
        },
        "id": "PV0SqoQYMoXX",
        "outputId": "e4f24712-983e-403d-93c1-b5e52de489d7"
      },
      "outputs": [
        {
          "output_type": "execute_result",
          "data": {
            "text/plain": [
              "   Unnamed: 0             name            team   xP  assists  bonus       bps  \\\n",
              "0           0   Aaron Connolly        Brighton  2.1        0      0 -0.577658   \n",
              "1           1  Michail Antonio        West Ham  3.4        2      3  3.693568   \n",
              "2           2   Arthur Masuaku        West Ham  2.0        0      0 -0.577658   \n",
              "3           3    Michael Olise  Crystal Palace  0.0        0      0 -0.577658   \n",
              "4           4  Michael Obafemi     Southampton  1.0        0      0 -0.577658   \n",
              "\n",
              "   clean_sheets  creativity   element  ...  strength_attack_home  \\\n",
              "0             0   -0.419363 -1.352937  ...              0.196416   \n",
              "1             0    1.423347  0.392776  ...             -0.434511   \n",
              "2             0   -0.419363  0.413254  ...             -0.434511   \n",
              "3             0   -0.419363  0.653865  ...             -0.434511   \n",
              "4             0   -0.419363  0.060015  ...             -0.686881   \n",
              "\n",
              "   strength_attack_away  strength_defence_home  strength_defence_away  \\\n",
              "0              0.065203              -0.491967              -0.385999   \n",
              "1             -0.042959               0.213122               0.282991   \n",
              "2             -0.042959               0.213122               0.282991   \n",
              "3              0.065203              -0.726996               0.059994   \n",
              "4             -0.151120              -0.256937              -0.720494   \n",
              "\n",
              "   cat_pos  position_DEF  position_FWD  position_GK  position_GKP  \\\n",
              "0      FWD             0             1            0             0   \n",
              "1      FWD             0             1            0             0   \n",
              "2      DEF             1             0            0             0   \n",
              "3      MID             0             0            0             0   \n",
              "4      FWD             0             1            0             0   \n",
              "\n",
              "   position_MID  \n",
              "0             0  \n",
              "1             0  \n",
              "2             0  \n",
              "3             1  \n",
              "4             0  \n",
              "\n",
              "[5 rows x 55 columns]"
            ],
            "text/html": [
              "\n",
              "  <div id=\"df-8ec552cf-f7c5-400f-a21b-0efa4d74d23f\">\n",
              "    <div class=\"colab-df-container\">\n",
              "      <div>\n",
              "<style scoped>\n",
              "    .dataframe tbody tr th:only-of-type {\n",
              "        vertical-align: middle;\n",
              "    }\n",
              "\n",
              "    .dataframe tbody tr th {\n",
              "        vertical-align: top;\n",
              "    }\n",
              "\n",
              "    .dataframe thead th {\n",
              "        text-align: right;\n",
              "    }\n",
              "</style>\n",
              "<table border=\"1\" class=\"dataframe\">\n",
              "  <thead>\n",
              "    <tr style=\"text-align: right;\">\n",
              "      <th></th>\n",
              "      <th>Unnamed: 0</th>\n",
              "      <th>name</th>\n",
              "      <th>team</th>\n",
              "      <th>xP</th>\n",
              "      <th>assists</th>\n",
              "      <th>bonus</th>\n",
              "      <th>bps</th>\n",
              "      <th>clean_sheets</th>\n",
              "      <th>creativity</th>\n",
              "      <th>element</th>\n",
              "      <th>...</th>\n",
              "      <th>strength_attack_home</th>\n",
              "      <th>strength_attack_away</th>\n",
              "      <th>strength_defence_home</th>\n",
              "      <th>strength_defence_away</th>\n",
              "      <th>cat_pos</th>\n",
              "      <th>position_DEF</th>\n",
              "      <th>position_FWD</th>\n",
              "      <th>position_GK</th>\n",
              "      <th>position_GKP</th>\n",
              "      <th>position_MID</th>\n",
              "    </tr>\n",
              "  </thead>\n",
              "  <tbody>\n",
              "    <tr>\n",
              "      <th>0</th>\n",
              "      <td>0</td>\n",
              "      <td>Aaron Connolly</td>\n",
              "      <td>Brighton</td>\n",
              "      <td>2.1</td>\n",
              "      <td>0</td>\n",
              "      <td>0</td>\n",
              "      <td>-0.577658</td>\n",
              "      <td>0</td>\n",
              "      <td>-0.419363</td>\n",
              "      <td>-1.352937</td>\n",
              "      <td>...</td>\n",
              "      <td>0.196416</td>\n",
              "      <td>0.065203</td>\n",
              "      <td>-0.491967</td>\n",
              "      <td>-0.385999</td>\n",
              "      <td>FWD</td>\n",
              "      <td>0</td>\n",
              "      <td>1</td>\n",
              "      <td>0</td>\n",
              "      <td>0</td>\n",
              "      <td>0</td>\n",
              "    </tr>\n",
              "    <tr>\n",
              "      <th>1</th>\n",
              "      <td>1</td>\n",
              "      <td>Michail Antonio</td>\n",
              "      <td>West Ham</td>\n",
              "      <td>3.4</td>\n",
              "      <td>2</td>\n",
              "      <td>3</td>\n",
              "      <td>3.693568</td>\n",
              "      <td>0</td>\n",
              "      <td>1.423347</td>\n",
              "      <td>0.392776</td>\n",
              "      <td>...</td>\n",
              "      <td>-0.434511</td>\n",
              "      <td>-0.042959</td>\n",
              "      <td>0.213122</td>\n",
              "      <td>0.282991</td>\n",
              "      <td>FWD</td>\n",
              "      <td>0</td>\n",
              "      <td>1</td>\n",
              "      <td>0</td>\n",
              "      <td>0</td>\n",
              "      <td>0</td>\n",
              "    </tr>\n",
              "    <tr>\n",
              "      <th>2</th>\n",
              "      <td>2</td>\n",
              "      <td>Arthur Masuaku</td>\n",
              "      <td>West Ham</td>\n",
              "      <td>2.0</td>\n",
              "      <td>0</td>\n",
              "      <td>0</td>\n",
              "      <td>-0.577658</td>\n",
              "      <td>0</td>\n",
              "      <td>-0.419363</td>\n",
              "      <td>0.413254</td>\n",
              "      <td>...</td>\n",
              "      <td>-0.434511</td>\n",
              "      <td>-0.042959</td>\n",
              "      <td>0.213122</td>\n",
              "      <td>0.282991</td>\n",
              "      <td>DEF</td>\n",
              "      <td>1</td>\n",
              "      <td>0</td>\n",
              "      <td>0</td>\n",
              "      <td>0</td>\n",
              "      <td>0</td>\n",
              "    </tr>\n",
              "    <tr>\n",
              "      <th>3</th>\n",
              "      <td>3</td>\n",
              "      <td>Michael Olise</td>\n",
              "      <td>Crystal Palace</td>\n",
              "      <td>0.0</td>\n",
              "      <td>0</td>\n",
              "      <td>0</td>\n",
              "      <td>-0.577658</td>\n",
              "      <td>0</td>\n",
              "      <td>-0.419363</td>\n",
              "      <td>0.653865</td>\n",
              "      <td>...</td>\n",
              "      <td>-0.434511</td>\n",
              "      <td>0.065203</td>\n",
              "      <td>-0.726996</td>\n",
              "      <td>0.059994</td>\n",
              "      <td>MID</td>\n",
              "      <td>0</td>\n",
              "      <td>0</td>\n",
              "      <td>0</td>\n",
              "      <td>0</td>\n",
              "      <td>1</td>\n",
              "    </tr>\n",
              "    <tr>\n",
              "      <th>4</th>\n",
              "      <td>4</td>\n",
              "      <td>Michael Obafemi</td>\n",
              "      <td>Southampton</td>\n",
              "      <td>1.0</td>\n",
              "      <td>0</td>\n",
              "      <td>0</td>\n",
              "      <td>-0.577658</td>\n",
              "      <td>0</td>\n",
              "      <td>-0.419363</td>\n",
              "      <td>0.060015</td>\n",
              "      <td>...</td>\n",
              "      <td>-0.686881</td>\n",
              "      <td>-0.151120</td>\n",
              "      <td>-0.256937</td>\n",
              "      <td>-0.720494</td>\n",
              "      <td>FWD</td>\n",
              "      <td>0</td>\n",
              "      <td>1</td>\n",
              "      <td>0</td>\n",
              "      <td>0</td>\n",
              "      <td>0</td>\n",
              "    </tr>\n",
              "  </tbody>\n",
              "</table>\n",
              "<p>5 rows × 55 columns</p>\n",
              "</div>\n",
              "      <button class=\"colab-df-convert\" onclick=\"convertToInteractive('df-8ec552cf-f7c5-400f-a21b-0efa4d74d23f')\"\n",
              "              title=\"Convert this dataframe to an interactive table.\"\n",
              "              style=\"display:none;\">\n",
              "        \n",
              "  <svg xmlns=\"http://www.w3.org/2000/svg\" height=\"24px\"viewBox=\"0 0 24 24\"\n",
              "       width=\"24px\">\n",
              "    <path d=\"M0 0h24v24H0V0z\" fill=\"none\"/>\n",
              "    <path d=\"M18.56 5.44l.94 2.06.94-2.06 2.06-.94-2.06-.94-.94-2.06-.94 2.06-2.06.94zm-11 1L8.5 8.5l.94-2.06 2.06-.94-2.06-.94L8.5 2.5l-.94 2.06-2.06.94zm10 10l.94 2.06.94-2.06 2.06-.94-2.06-.94-.94-2.06-.94 2.06-2.06.94z\"/><path d=\"M17.41 7.96l-1.37-1.37c-.4-.4-.92-.59-1.43-.59-.52 0-1.04.2-1.43.59L10.3 9.45l-7.72 7.72c-.78.78-.78 2.05 0 2.83L4 21.41c.39.39.9.59 1.41.59.51 0 1.02-.2 1.41-.59l7.78-7.78 2.81-2.81c.8-.78.8-2.07 0-2.86zM5.41 20L4 18.59l7.72-7.72 1.47 1.35L5.41 20z\"/>\n",
              "  </svg>\n",
              "      </button>\n",
              "      \n",
              "  <style>\n",
              "    .colab-df-container {\n",
              "      display:flex;\n",
              "      flex-wrap:wrap;\n",
              "      gap: 12px;\n",
              "    }\n",
              "\n",
              "    .colab-df-convert {\n",
              "      background-color: #E8F0FE;\n",
              "      border: none;\n",
              "      border-radius: 50%;\n",
              "      cursor: pointer;\n",
              "      display: none;\n",
              "      fill: #1967D2;\n",
              "      height: 32px;\n",
              "      padding: 0 0 0 0;\n",
              "      width: 32px;\n",
              "    }\n",
              "\n",
              "    .colab-df-convert:hover {\n",
              "      background-color: #E2EBFA;\n",
              "      box-shadow: 0px 1px 2px rgba(60, 64, 67, 0.3), 0px 1px 3px 1px rgba(60, 64, 67, 0.15);\n",
              "      fill: #174EA6;\n",
              "    }\n",
              "\n",
              "    [theme=dark] .colab-df-convert {\n",
              "      background-color: #3B4455;\n",
              "      fill: #D2E3FC;\n",
              "    }\n",
              "\n",
              "    [theme=dark] .colab-df-convert:hover {\n",
              "      background-color: #434B5C;\n",
              "      box-shadow: 0px 1px 3px 1px rgba(0, 0, 0, 0.15);\n",
              "      filter: drop-shadow(0px 1px 2px rgba(0, 0, 0, 0.3));\n",
              "      fill: #FFFFFF;\n",
              "    }\n",
              "  </style>\n",
              "\n",
              "      <script>\n",
              "        const buttonEl =\n",
              "          document.querySelector('#df-8ec552cf-f7c5-400f-a21b-0efa4d74d23f button.colab-df-convert');\n",
              "        buttonEl.style.display =\n",
              "          google.colab.kernel.accessAllowed ? 'block' : 'none';\n",
              "\n",
              "        async function convertToInteractive(key) {\n",
              "          const element = document.querySelector('#df-8ec552cf-f7c5-400f-a21b-0efa4d74d23f');\n",
              "          const dataTable =\n",
              "            await google.colab.kernel.invokeFunction('convertToInteractive',\n",
              "                                                     [key], {});\n",
              "          if (!dataTable) return;\n",
              "\n",
              "          const docLinkHtml = 'Like what you see? Visit the ' +\n",
              "            '<a target=\"_blank\" href=https://colab.research.google.com/notebooks/data_table.ipynb>data table notebook</a>'\n",
              "            + ' to learn more about interactive tables.';\n",
              "          element.innerHTML = '';\n",
              "          dataTable['output_type'] = 'display_data';\n",
              "          await google.colab.output.renderOutput(dataTable, element);\n",
              "          const docLink = document.createElement('div');\n",
              "          docLink.innerHTML = docLinkHtml;\n",
              "          element.appendChild(docLink);\n",
              "        }\n",
              "      </script>\n",
              "    </div>\n",
              "  </div>\n",
              "  "
            ]
          },
          "metadata": {},
          "execution_count": 4
        }
      ],
      "source": [
        "df.head()"
      ]
    },
    {
      "cell_type": "markdown",
      "metadata": {
        "id": "95i7s3ot68Bp"
      },
      "source": [
        "**Spliting data to features and target and drop useless features**"
      ]
    },
    {
      "cell_type": "code",
      "execution_count": null,
      "metadata": {
        "id": "2Mamzbhx4xo7"
      },
      "outputs": [],
      "source": [
        "feature = df.drop(['Unnamed: 0','total_points', \"team\",\"GW\",\"round\"],axis = 1)\n",
        "target = df['total_points']"
      ]
    },
    {
      "cell_type": "code",
      "execution_count": null,
      "metadata": {
        "id": "uUYghFUp5MU2"
      },
      "outputs": [],
      "source": [
        "X_train, X_test, y_train, y_test = train_test_split(feature, target, test_size=0.20, random_state=0)"
      ]
    },
    {
      "cell_type": "code",
      "execution_count": null,
      "metadata": {
        "id": "ipiCPJEGSYbu"
      },
      "outputs": [],
      "source": [
        "X_train_name_value_pos=X_train[[\"name\",\"value\",\"cat_pos\"]]\n",
        "X_test_name_value_pos=X_test[[\"name\",\"value\",\"cat_pos\"]]"
      ]
    },
    {
      "cell_type": "code",
      "execution_count": null,
      "metadata": {
        "id": "ngO4yg5TXxxN"
      },
      "outputs": [],
      "source": [
        "X_train.drop([\"name\",\"value\",\"cat_pos\"],axis=1,inplace=True)\n",
        "X_test.drop([\"name\",\"value\",\"cat_pos\"],axis=1,inplace=True)"
      ]
    },
    {
      "cell_type": "markdown",
      "metadata": {
        "id": "jOeaopvECpcO"
      },
      "source": [
        "**change data type to tensor**"
      ]
    },
    {
      "cell_type": "code",
      "execution_count": null,
      "metadata": {
        "id": "DambiuYtCt-k"
      },
      "outputs": [],
      "source": [
        "X_train=tf.convert_to_tensor(X_train)\n",
        "y_train=tf.convert_to_tensor(y_train)"
      ]
    },
    {
      "cell_type": "code",
      "execution_count": null,
      "metadata": {
        "id": "lK2OnRr_C3mM"
      },
      "outputs": [],
      "source": [
        "X_test=tf.convert_to_tensor(X_test)\n",
        "y_test=tf.convert_to_tensor(y_test)"
      ]
    },
    {
      "cell_type": "code",
      "execution_count": null,
      "metadata": {
        "colab": {
          "base_uri": "https://localhost:8080/"
        },
        "id": "L782OzfBpjlj",
        "outputId": "06e1079a-d60e-4139-85f2-ccd064bb9007"
      },
      "outputs": [
        {
          "output_type": "execute_result",
          "data": {
            "text/plain": [
              "TensorShape([18555, 47])"
            ]
          },
          "metadata": {},
          "execution_count": 11
        }
      ],
      "source": [
        "X_train.shape"
      ]
    },
    {
      "cell_type": "code",
      "execution_count": null,
      "metadata": {
        "colab": {
          "base_uri": "https://localhost:8080/"
        },
        "id": "drQg_H-iAOop",
        "outputId": "8730aef7-3de5-44e8-87fa-67ab92bffa5f"
      },
      "outputs": [
        {
          "output_type": "execute_result",
          "data": {
            "text/plain": [
              "TensorShape([18555])"
            ]
          },
          "metadata": {},
          "execution_count": 12
        }
      ],
      "source": [
        "y_train.shape"
      ]
    },
    {
      "cell_type": "markdown",
      "metadata": {
        "id": "JBk_QY04Petc"
      },
      "source": [
        "**Define Sequential model with 4 layers**"
      ]
    },
    {
      "cell_type": "code",
      "execution_count": null,
      "metadata": {
        "id": "_fz4cwoS2AOs"
      },
      "outputs": [],
      "source": [
        "def model_builder(hp):\n",
        "  model = tf.keras.Sequential()\n",
        "  hp_layer_2 = hp.Int(\"layer_2\",min_value=1,max_value=100)\n",
        "  hp_layer_3 = hp.Int(\"layer_3\",min_value=1,max_value=100)\n",
        "\n",
        "  model.add(tf.keras.layers.Dense(47,activation=\"relu\",input_dim=47,name=\"input_layer\"))\n",
        "  model.add(tf.keras.layers.Dense(units=hp_layer_2,activation=\"relu\",name=\"L2\"))\n",
        "  model.add(tf.keras.layers.Dense(units=hp_layer_3,activation=\"relu\",name=\"L3\"))\n",
        "  model.add(tf.keras.layers.Dense(1,activation=\"linear\",name=\"output_layer\"))\n",
        "\n",
        "  model.compile(optimizer=\"adam\",loss=\"mse\",metrics=[['mse',\"mae\"]])\n",
        "\n",
        "\n",
        "  return model"
      ]
    },
    {
      "cell_type": "code",
      "execution_count": null,
      "metadata": {
        "id": "80t6-Kl3QNT8"
      },
      "outputs": [],
      "source": [
        "tuner =kt.Hyperband(model_builder,objective=[\"mse\",\"mae\"],max_epochs=50)"
      ]
    },
    {
      "cell_type": "code",
      "execution_count": null,
      "metadata": {
        "id": "wLQ3xo1PQ6-h"
      },
      "outputs": [],
      "source": [
        "#stop_early= tf.keras.callbacks.EarlyStopping(monitor=\"val_loss\",patience=3)"
      ]
    },
    {
      "cell_type": "code",
      "execution_count": null,
      "metadata": {
        "colab": {
          "base_uri": "https://localhost:8080/"
        },
        "id": "VeU0A6ZKRPiY",
        "outputId": "f4494858-4b8b-459e-b65b-6bd613cf1e66"
      },
      "outputs": [
        {
          "output_type": "stream",
          "name": "stdout",
          "text": [
            "Trial 90 Complete [00h 01m 23s]\n",
            "multi_objective: 4.039985775947571\n",
            "\n",
            "Best multi_objective So Far: 3.9427794218063354\n",
            "Total elapsed time: 00h 30m 12s\n"
          ]
        }
      ],
      "source": [
        "from pandas.core.common import random_state\n",
        "tuner.search(X_train,y_train,epochs=50,validation_split=0.2)"
      ]
    },
    {
      "cell_type": "code",
      "execution_count": null,
      "metadata": {
        "id": "2Fe9Me7LSTZB"
      },
      "outputs": [],
      "source": [
        "best_hp=tuner.get_best_hyperparameters(num_trials=1)[0]"
      ]
    },
    {
      "cell_type": "code",
      "execution_count": null,
      "metadata": {
        "id": "fLJ-bvCxSi3n"
      },
      "outputs": [],
      "source": [
        "model=tuner.hypermodel.build(best_hp)"
      ]
    },
    {
      "cell_type": "code",
      "execution_count": null,
      "metadata": {
        "colab": {
          "base_uri": "https://localhost:8080/"
        },
        "id": "PfiA9vV637HA",
        "outputId": "d07b218a-9f68-4fe8-bd56-38b3f3a07737"
      },
      "outputs": [
        {
          "output_type": "stream",
          "name": "stdout",
          "text": [
            "Model: \"sequential_1\"\n",
            "_________________________________________________________________\n",
            " Layer (type)                Output Shape              Param #   \n",
            "=================================================================\n",
            " input_layer (Dense)         (None, 47)                2256      \n",
            "                                                                 \n",
            " L2 (Dense)                  (None, 69)                3312      \n",
            "                                                                 \n",
            " L3 (Dense)                  (None, 70)                4900      \n",
            "                                                                 \n",
            " output_layer (Dense)        (None, 1)                 71        \n",
            "                                                                 \n",
            "=================================================================\n",
            "Total params: 10,539\n",
            "Trainable params: 10,539\n",
            "Non-trainable params: 0\n",
            "_________________________________________________________________\n"
          ]
        }
      ],
      "source": [
        "model.summary()"
      ]
    },
    {
      "cell_type": "code",
      "execution_count": null,
      "metadata": {
        "colab": {
          "base_uri": "https://localhost:8080/"
        },
        "id": "bejEektgRP8a",
        "outputId": "cc5f519c-5aba-4a6e-c9b1-ff166ca5cf59"
      },
      "outputs": [
        {
          "output_type": "stream",
          "name": "stdout",
          "text": [
            "Results summary\n",
            "Results in ./untitled_project\n",
            "Showing 10 best trials\n",
            "<keras_tuner.engine.objective.MultiObjective object at 0x7f64e58b8190>\n",
            "Trial summary\n",
            "Hyperparameters:\n",
            "layer_2: 69\n",
            "layer_3: 70\n",
            "tuner/epochs: 50\n",
            "tuner/initial_epoch: 0\n",
            "tuner/bracket: 0\n",
            "tuner/round: 0\n",
            "Score: 3.9427794218063354\n",
            "Trial summary\n",
            "Hyperparameters:\n",
            "layer_2: 66\n",
            "layer_3: 57\n",
            "tuner/epochs: 50\n",
            "tuner/initial_epoch: 0\n",
            "tuner/bracket: 0\n",
            "tuner/round: 0\n",
            "Score: 4.039985775947571\n",
            "Trial summary\n",
            "Hyperparameters:\n",
            "layer_2: 88\n",
            "layer_3: 47\n",
            "tuner/epochs: 50\n",
            "tuner/initial_epoch: 0\n",
            "tuner/bracket: 0\n",
            "tuner/round: 0\n",
            "Score: 4.09403783082962\n",
            "Trial summary\n",
            "Hyperparameters:\n",
            "layer_2: 79\n",
            "layer_3: 34\n",
            "tuner/epochs: 50\n",
            "tuner/initial_epoch: 0\n",
            "tuner/bracket: 0\n",
            "tuner/round: 0\n",
            "Score: 4.320057392120361\n",
            "Trial summary\n",
            "Hyperparameters:\n",
            "layer_2: 50\n",
            "layer_3: 83\n",
            "tuner/epochs: 50\n",
            "tuner/initial_epoch: 17\n",
            "tuner/bracket: 1\n",
            "tuner/round: 1\n",
            "tuner/trial_id: 0078\n",
            "Score: 4.529072046279907\n",
            "Trial summary\n",
            "Hyperparameters:\n",
            "layer_2: 16\n",
            "layer_3: 51\n",
            "tuner/epochs: 50\n",
            "tuner/initial_epoch: 0\n",
            "tuner/bracket: 0\n",
            "tuner/round: 0\n",
            "Score: 4.570871829986572\n",
            "Trial summary\n",
            "Hyperparameters:\n",
            "layer_2: 92\n",
            "layer_3: 47\n",
            "tuner/epochs: 50\n",
            "tuner/initial_epoch: 17\n",
            "tuner/bracket: 1\n",
            "tuner/round: 1\n",
            "tuner/trial_id: 0081\n",
            "Score: 4.701119065284729\n",
            "Trial summary\n",
            "Hyperparameters:\n",
            "layer_2: 97\n",
            "layer_3: 7\n",
            "tuner/epochs: 50\n",
            "tuner/initial_epoch: 17\n",
            "tuner/bracket: 2\n",
            "tuner/round: 2\n",
            "tuner/trial_id: 0067\n",
            "Score: 4.726426839828491\n",
            "Trial summary\n",
            "Hyperparameters:\n",
            "layer_2: 23\n",
            "layer_3: 63\n",
            "tuner/epochs: 50\n",
            "tuner/initial_epoch: 17\n",
            "tuner/bracket: 2\n",
            "tuner/round: 2\n",
            "tuner/trial_id: 0070\n",
            "Score: 4.766496419906616\n",
            "Trial summary\n",
            "Hyperparameters:\n",
            "layer_2: 60\n",
            "layer_3: 3\n",
            "tuner/epochs: 50\n",
            "tuner/initial_epoch: 17\n",
            "tuner/bracket: 1\n",
            "tuner/round: 1\n",
            "tuner/trial_id: 0079\n",
            "Score: 4.7718082666397095\n"
          ]
        }
      ],
      "source": [
        "tuner.results_summary()"
      ]
    },
    {
      "cell_type": "code",
      "execution_count": null,
      "metadata": {
        "colab": {
          "base_uri": "https://localhost:8080/"
        },
        "id": "2hh10sBa_JPO",
        "outputId": "e7aded6b-8df7-4859-a966-c416425a7eb0"
      },
      "outputs": [
        {
          "output_type": "stream",
          "name": "stdout",
          "text": [
            "Epoch 1/50\n",
            "1485/1485 [==============================] - 5s 3ms/step - loss: 4.7264 - mse: 4.7264 - mae: 1.1895 - val_loss: 4.0421 - val_mse: 4.0421 - val_mae: 1.1599\n",
            "Epoch 2/50\n",
            "1485/1485 [==============================] - 5s 3ms/step - loss: 4.4436 - mse: 4.4436 - mae: 1.1473 - val_loss: 3.9099 - val_mse: 3.9099 - val_mae: 1.1065\n",
            "Epoch 3/50\n",
            "1485/1485 [==============================] - 5s 3ms/step - loss: 4.4067 - mse: 4.4067 - mae: 1.1358 - val_loss: 3.8612 - val_mse: 3.8612 - val_mae: 1.0744\n",
            "Epoch 4/50\n",
            "1485/1485 [==============================] - 5s 3ms/step - loss: 4.3624 - mse: 4.3624 - mae: 1.1315 - val_loss: 3.8484 - val_mse: 3.8484 - val_mae: 1.0796\n",
            "Epoch 5/50\n",
            "1485/1485 [==============================] - 5s 3ms/step - loss: 4.3464 - mse: 4.3464 - mae: 1.1260 - val_loss: 3.8952 - val_mse: 3.8952 - val_mae: 1.1432\n",
            "Epoch 6/50\n",
            "1485/1485 [==============================] - 5s 3ms/step - loss: 4.3129 - mse: 4.3129 - mae: 1.1242 - val_loss: 3.8275 - val_mse: 3.8275 - val_mae: 1.0416\n",
            "Epoch 7/50\n",
            "1485/1485 [==============================] - 5s 3ms/step - loss: 4.3038 - mse: 4.3038 - mae: 1.1189 - val_loss: 3.8638 - val_mse: 3.8638 - val_mae: 1.0064\n",
            "Epoch 8/50\n",
            "1485/1485 [==============================] - 5s 3ms/step - loss: 4.2603 - mse: 4.2603 - mae: 1.1149 - val_loss: 3.8333 - val_mse: 3.8333 - val_mae: 1.0517\n",
            "Epoch 9/50\n",
            "1485/1485 [==============================] - 5s 3ms/step - loss: 4.2555 - mse: 4.2555 - mae: 1.1140 - val_loss: 3.8280 - val_mse: 3.8280 - val_mae: 1.0638\n",
            "Epoch 10/50\n",
            "1485/1485 [==============================] - 5s 3ms/step - loss: 4.2312 - mse: 4.2312 - mae: 1.1150 - val_loss: 3.8512 - val_mse: 3.8512 - val_mae: 1.0178\n",
            "Epoch 11/50\n",
            "1485/1485 [==============================] - 5s 3ms/step - loss: 4.1908 - mse: 4.1908 - mae: 1.1067 - val_loss: 3.8492 - val_mse: 3.8492 - val_mae: 1.0398\n",
            "Epoch 12/50\n",
            "1485/1485 [==============================] - 5s 3ms/step - loss: 4.1784 - mse: 4.1784 - mae: 1.1046 - val_loss: 3.7959 - val_mse: 3.7959 - val_mae: 1.0613\n",
            "Epoch 13/50\n",
            "1485/1485 [==============================] - 5s 3ms/step - loss: 4.1471 - mse: 4.1471 - mae: 1.1005 - val_loss: 3.8394 - val_mse: 3.8394 - val_mae: 0.9818\n",
            "Epoch 14/50\n",
            "1485/1485 [==============================] - 5s 3ms/step - loss: 4.1120 - mse: 4.1120 - mae: 1.0920 - val_loss: 3.7769 - val_mse: 3.7769 - val_mae: 1.0184\n",
            "Epoch 15/50\n",
            "1485/1485 [==============================] - 5s 3ms/step - loss: 4.0841 - mse: 4.0841 - mae: 1.0894 - val_loss: 3.8742 - val_mse: 3.8742 - val_mae: 1.0654\n",
            "Epoch 16/50\n",
            "1485/1485 [==============================] - 5s 3ms/step - loss: 4.0670 - mse: 4.0670 - mae: 1.0908 - val_loss: 3.8111 - val_mse: 3.8111 - val_mae: 1.0693\n",
            "Epoch 17/50\n",
            "1485/1485 [==============================] - 5s 3ms/step - loss: 4.0506 - mse: 4.0506 - mae: 1.0882 - val_loss: 3.8129 - val_mse: 3.8129 - val_mae: 1.0801\n",
            "Epoch 18/50\n",
            "1485/1485 [==============================] - 5s 3ms/step - loss: 4.0026 - mse: 4.0026 - mae: 1.0823 - val_loss: 3.7906 - val_mse: 3.7906 - val_mae: 1.0677\n",
            "Epoch 19/50\n",
            "1485/1485 [==============================] - 5s 3ms/step - loss: 3.9959 - mse: 3.9959 - mae: 1.0798 - val_loss: 3.9577 - val_mse: 3.9577 - val_mae: 0.9945\n",
            "Epoch 20/50\n",
            "1485/1485 [==============================] - 5s 3ms/step - loss: 3.9876 - mse: 3.9876 - mae: 1.0740 - val_loss: 3.9042 - val_mse: 3.9042 - val_mae: 1.0961\n",
            "Epoch 21/50\n",
            "1485/1485 [==============================] - 5s 3ms/step - loss: 3.9478 - mse: 3.9478 - mae: 1.0730 - val_loss: 4.1767 - val_mse: 4.1767 - val_mae: 1.0939\n",
            "Epoch 22/50\n",
            "1485/1485 [==============================] - 5s 3ms/step - loss: 3.9263 - mse: 3.9263 - mae: 1.0719 - val_loss: 3.9017 - val_mse: 3.9017 - val_mae: 1.0471\n",
            "Epoch 23/50\n",
            "1485/1485 [==============================] - 5s 3ms/step - loss: 3.9174 - mse: 3.9174 - mae: 1.0664 - val_loss: 3.7444 - val_mse: 3.7444 - val_mae: 1.0404\n",
            "Epoch 24/50\n",
            "1485/1485 [==============================] - 5s 3ms/step - loss: 3.8800 - mse: 3.8800 - mae: 1.0609 - val_loss: 3.7551 - val_mse: 3.7551 - val_mae: 1.0485\n",
            "Epoch 25/50\n",
            "1485/1485 [==============================] - 5s 3ms/step - loss: 3.8341 - mse: 3.8341 - mae: 1.0596 - val_loss: 3.8408 - val_mse: 3.8408 - val_mae: 1.0533\n",
            "Epoch 26/50\n",
            "1485/1485 [==============================] - 5s 3ms/step - loss: 3.8502 - mse: 3.8502 - mae: 1.0587 - val_loss: 3.8094 - val_mse: 3.8094 - val_mae: 1.0751\n",
            "Epoch 27/50\n",
            "1485/1485 [==============================] - 5s 3ms/step - loss: 3.8020 - mse: 3.8020 - mae: 1.0521 - val_loss: 3.9857 - val_mse: 3.9857 - val_mae: 1.1010\n",
            "Epoch 28/50\n",
            "1485/1485 [==============================] - 5s 3ms/step - loss: 3.7726 - mse: 3.7726 - mae: 1.0484 - val_loss: 3.8680 - val_mse: 3.8680 - val_mae: 1.0530\n",
            "Epoch 29/50\n",
            "1485/1485 [==============================] - 5s 3ms/step - loss: 3.7498 - mse: 3.7498 - mae: 1.0424 - val_loss: 3.9782 - val_mse: 3.9782 - val_mae: 1.0678\n",
            "Epoch 30/50\n",
            "1485/1485 [==============================] - 5s 3ms/step - loss: 3.7274 - mse: 3.7274 - mae: 1.0369 - val_loss: 3.8024 - val_mse: 3.8024 - val_mae: 1.0316\n",
            "Epoch 31/50\n",
            "1485/1485 [==============================] - 5s 3ms/step - loss: 3.7010 - mse: 3.7010 - mae: 1.0345 - val_loss: 3.8414 - val_mse: 3.8414 - val_mae: 1.0563\n",
            "Epoch 32/50\n",
            "1485/1485 [==============================] - 5s 3ms/step - loss: 3.6800 - mse: 3.6800 - mae: 1.0310 - val_loss: 3.8223 - val_mse: 3.8223 - val_mae: 1.0685\n",
            "Epoch 33/50\n",
            "1485/1485 [==============================] - 5s 3ms/step - loss: 3.6425 - mse: 3.6425 - mae: 1.0282 - val_loss: 3.9879 - val_mse: 3.9879 - val_mae: 1.0102\n",
            "Epoch 34/50\n",
            "1485/1485 [==============================] - 5s 3ms/step - loss: 3.6537 - mse: 3.6537 - mae: 1.0255 - val_loss: 3.9543 - val_mse: 3.9543 - val_mae: 1.0720\n",
            "Epoch 35/50\n",
            "1485/1485 [==============================] - 5s 3ms/step - loss: 3.5983 - mse: 3.5983 - mae: 1.0196 - val_loss: 3.9690 - val_mse: 3.9690 - val_mae: 1.1084\n",
            "Epoch 36/50\n",
            "1485/1485 [==============================] - 5s 3ms/step - loss: 3.5639 - mse: 3.5639 - mae: 1.0166 - val_loss: 3.9580 - val_mse: 3.9580 - val_mae: 1.0205\n",
            "Epoch 37/50\n",
            "1485/1485 [==============================] - 6s 4ms/step - loss: 3.5630 - mse: 3.5630 - mae: 1.0107 - val_loss: 3.8872 - val_mse: 3.8872 - val_mae: 1.0274\n",
            "Epoch 38/50\n",
            "1485/1485 [==============================] - 5s 3ms/step - loss: 3.5626 - mse: 3.5626 - mae: 1.0143 - val_loss: 3.9500 - val_mse: 3.9500 - val_mae: 1.0710\n",
            "Epoch 39/50\n",
            "1485/1485 [==============================] - 6s 4ms/step - loss: 3.4854 - mse: 3.4854 - mae: 1.0027 - val_loss: 4.2214 - val_mse: 4.2214 - val_mae: 1.0843\n",
            "Epoch 40/50\n",
            "1485/1485 [==============================] - 5s 3ms/step - loss: 3.4492 - mse: 3.4492 - mae: 0.9941 - val_loss: 4.0333 - val_mse: 4.0333 - val_mae: 1.0891\n",
            "Epoch 41/50\n",
            "1485/1485 [==============================] - 5s 3ms/step - loss: 3.4565 - mse: 3.4565 - mae: 1.0033 - val_loss: 4.0543 - val_mse: 4.0543 - val_mae: 1.0536\n",
            "Epoch 42/50\n",
            "1485/1485 [==============================] - 5s 3ms/step - loss: 3.4587 - mse: 3.4587 - mae: 0.9925 - val_loss: 4.1751 - val_mse: 4.1751 - val_mae: 1.1270\n",
            "Epoch 43/50\n",
            "1485/1485 [==============================] - 5s 3ms/step - loss: 3.4098 - mse: 3.4098 - mae: 0.9931 - val_loss: 4.0702 - val_mse: 4.0702 - val_mae: 1.0519\n",
            "Epoch 44/50\n",
            "1485/1485 [==============================] - 5s 3ms/step - loss: 3.4221 - mse: 3.4221 - mae: 0.9934 - val_loss: 4.0852 - val_mse: 4.0852 - val_mae: 1.1054\n",
            "Epoch 45/50\n",
            "1485/1485 [==============================] - 5s 3ms/step - loss: 3.3505 - mse: 3.3505 - mae: 0.9804 - val_loss: 4.0260 - val_mse: 4.0260 - val_mae: 1.0364\n",
            "Epoch 46/50\n",
            "1485/1485 [==============================] - 5s 3ms/step - loss: 3.3290 - mse: 3.3290 - mae: 0.9823 - val_loss: 4.0962 - val_mse: 4.0962 - val_mae: 1.0568\n",
            "Epoch 47/50\n",
            "1485/1485 [==============================] - 5s 3ms/step - loss: 3.3203 - mse: 3.3203 - mae: 0.9809 - val_loss: 4.2190 - val_mse: 4.2190 - val_mae: 1.1037\n",
            "Epoch 48/50\n",
            "1485/1485 [==============================] - 5s 3ms/step - loss: 3.3349 - mse: 3.3349 - mae: 0.9830 - val_loss: 4.0815 - val_mse: 4.0815 - val_mae: 1.0401\n",
            "Epoch 49/50\n",
            "1485/1485 [==============================] - 5s 3ms/step - loss: 3.2806 - mse: 3.2806 - mae: 0.9706 - val_loss: 4.1005 - val_mse: 4.1005 - val_mae: 1.0738\n",
            "Epoch 50/50\n",
            "1485/1485 [==============================] - 5s 3ms/step - loss: 3.2864 - mse: 3.2864 - mae: 0.9747 - val_loss: 4.1181 - val_mse: 4.1181 - val_mae: 1.0898\n"
          ]
        }
      ],
      "source": [
        "history=model.fit(X_train,y_train,epochs=50,validation_split=0.2,batch_size=10)"
      ]
    },
    {
      "cell_type": "code",
      "execution_count": null,
      "metadata": {
        "colab": {
          "base_uri": "https://localhost:8080/",
          "height": 206
        },
        "id": "p0kCyWf83dfV",
        "outputId": "ebf74fdf-8920-4f13-e812-7ff686c04f2d"
      },
      "outputs": [
        {
          "output_type": "execute_result",
          "data": {
            "text/plain": [
              "        loss       mse       mae  val_loss   val_mse   val_mae  epoch\n",
              "45  3.329032  3.329032  0.982282  4.096197  4.096197  1.056826     45\n",
              "46  3.320274  3.320274  0.980862  4.218955  4.218955  1.103727     46\n",
              "47  3.334872  3.334872  0.982976  4.081503  4.081503  1.040142     47\n",
              "48  3.280641  3.280641  0.970589  4.100538  4.100538  1.073796     48\n",
              "49  3.286398  3.286398  0.974709  4.118140  4.118140  1.089784     49"
            ],
            "text/html": [
              "\n",
              "  <div id=\"df-334bd6fc-b68a-4053-8af7-a5a8fcb965e4\">\n",
              "    <div class=\"colab-df-container\">\n",
              "      <div>\n",
              "<style scoped>\n",
              "    .dataframe tbody tr th:only-of-type {\n",
              "        vertical-align: middle;\n",
              "    }\n",
              "\n",
              "    .dataframe tbody tr th {\n",
              "        vertical-align: top;\n",
              "    }\n",
              "\n",
              "    .dataframe thead th {\n",
              "        text-align: right;\n",
              "    }\n",
              "</style>\n",
              "<table border=\"1\" class=\"dataframe\">\n",
              "  <thead>\n",
              "    <tr style=\"text-align: right;\">\n",
              "      <th></th>\n",
              "      <th>loss</th>\n",
              "      <th>mse</th>\n",
              "      <th>mae</th>\n",
              "      <th>val_loss</th>\n",
              "      <th>val_mse</th>\n",
              "      <th>val_mae</th>\n",
              "      <th>epoch</th>\n",
              "    </tr>\n",
              "  </thead>\n",
              "  <tbody>\n",
              "    <tr>\n",
              "      <th>45</th>\n",
              "      <td>3.329032</td>\n",
              "      <td>3.329032</td>\n",
              "      <td>0.982282</td>\n",
              "      <td>4.096197</td>\n",
              "      <td>4.096197</td>\n",
              "      <td>1.056826</td>\n",
              "      <td>45</td>\n",
              "    </tr>\n",
              "    <tr>\n",
              "      <th>46</th>\n",
              "      <td>3.320274</td>\n",
              "      <td>3.320274</td>\n",
              "      <td>0.980862</td>\n",
              "      <td>4.218955</td>\n",
              "      <td>4.218955</td>\n",
              "      <td>1.103727</td>\n",
              "      <td>46</td>\n",
              "    </tr>\n",
              "    <tr>\n",
              "      <th>47</th>\n",
              "      <td>3.334872</td>\n",
              "      <td>3.334872</td>\n",
              "      <td>0.982976</td>\n",
              "      <td>4.081503</td>\n",
              "      <td>4.081503</td>\n",
              "      <td>1.040142</td>\n",
              "      <td>47</td>\n",
              "    </tr>\n",
              "    <tr>\n",
              "      <th>48</th>\n",
              "      <td>3.280641</td>\n",
              "      <td>3.280641</td>\n",
              "      <td>0.970589</td>\n",
              "      <td>4.100538</td>\n",
              "      <td>4.100538</td>\n",
              "      <td>1.073796</td>\n",
              "      <td>48</td>\n",
              "    </tr>\n",
              "    <tr>\n",
              "      <th>49</th>\n",
              "      <td>3.286398</td>\n",
              "      <td>3.286398</td>\n",
              "      <td>0.974709</td>\n",
              "      <td>4.118140</td>\n",
              "      <td>4.118140</td>\n",
              "      <td>1.089784</td>\n",
              "      <td>49</td>\n",
              "    </tr>\n",
              "  </tbody>\n",
              "</table>\n",
              "</div>\n",
              "      <button class=\"colab-df-convert\" onclick=\"convertToInteractive('df-334bd6fc-b68a-4053-8af7-a5a8fcb965e4')\"\n",
              "              title=\"Convert this dataframe to an interactive table.\"\n",
              "              style=\"display:none;\">\n",
              "        \n",
              "  <svg xmlns=\"http://www.w3.org/2000/svg\" height=\"24px\"viewBox=\"0 0 24 24\"\n",
              "       width=\"24px\">\n",
              "    <path d=\"M0 0h24v24H0V0z\" fill=\"none\"/>\n",
              "    <path d=\"M18.56 5.44l.94 2.06.94-2.06 2.06-.94-2.06-.94-.94-2.06-.94 2.06-2.06.94zm-11 1L8.5 8.5l.94-2.06 2.06-.94-2.06-.94L8.5 2.5l-.94 2.06-2.06.94zm10 10l.94 2.06.94-2.06 2.06-.94-2.06-.94-.94-2.06-.94 2.06-2.06.94z\"/><path d=\"M17.41 7.96l-1.37-1.37c-.4-.4-.92-.59-1.43-.59-.52 0-1.04.2-1.43.59L10.3 9.45l-7.72 7.72c-.78.78-.78 2.05 0 2.83L4 21.41c.39.39.9.59 1.41.59.51 0 1.02-.2 1.41-.59l7.78-7.78 2.81-2.81c.8-.78.8-2.07 0-2.86zM5.41 20L4 18.59l7.72-7.72 1.47 1.35L5.41 20z\"/>\n",
              "  </svg>\n",
              "      </button>\n",
              "      \n",
              "  <style>\n",
              "    .colab-df-container {\n",
              "      display:flex;\n",
              "      flex-wrap:wrap;\n",
              "      gap: 12px;\n",
              "    }\n",
              "\n",
              "    .colab-df-convert {\n",
              "      background-color: #E8F0FE;\n",
              "      border: none;\n",
              "      border-radius: 50%;\n",
              "      cursor: pointer;\n",
              "      display: none;\n",
              "      fill: #1967D2;\n",
              "      height: 32px;\n",
              "      padding: 0 0 0 0;\n",
              "      width: 32px;\n",
              "    }\n",
              "\n",
              "    .colab-df-convert:hover {\n",
              "      background-color: #E2EBFA;\n",
              "      box-shadow: 0px 1px 2px rgba(60, 64, 67, 0.3), 0px 1px 3px 1px rgba(60, 64, 67, 0.15);\n",
              "      fill: #174EA6;\n",
              "    }\n",
              "\n",
              "    [theme=dark] .colab-df-convert {\n",
              "      background-color: #3B4455;\n",
              "      fill: #D2E3FC;\n",
              "    }\n",
              "\n",
              "    [theme=dark] .colab-df-convert:hover {\n",
              "      background-color: #434B5C;\n",
              "      box-shadow: 0px 1px 3px 1px rgba(0, 0, 0, 0.15);\n",
              "      filter: drop-shadow(0px 1px 2px rgba(0, 0, 0, 0.3));\n",
              "      fill: #FFFFFF;\n",
              "    }\n",
              "  </style>\n",
              "\n",
              "      <script>\n",
              "        const buttonEl =\n",
              "          document.querySelector('#df-334bd6fc-b68a-4053-8af7-a5a8fcb965e4 button.colab-df-convert');\n",
              "        buttonEl.style.display =\n",
              "          google.colab.kernel.accessAllowed ? 'block' : 'none';\n",
              "\n",
              "        async function convertToInteractive(key) {\n",
              "          const element = document.querySelector('#df-334bd6fc-b68a-4053-8af7-a5a8fcb965e4');\n",
              "          const dataTable =\n",
              "            await google.colab.kernel.invokeFunction('convertToInteractive',\n",
              "                                                     [key], {});\n",
              "          if (!dataTable) return;\n",
              "\n",
              "          const docLinkHtml = 'Like what you see? Visit the ' +\n",
              "            '<a target=\"_blank\" href=https://colab.research.google.com/notebooks/data_table.ipynb>data table notebook</a>'\n",
              "            + ' to learn more about interactive tables.';\n",
              "          element.innerHTML = '';\n",
              "          dataTable['output_type'] = 'display_data';\n",
              "          await google.colab.output.renderOutput(dataTable, element);\n",
              "          const docLink = document.createElement('div');\n",
              "          docLink.innerHTML = docLinkHtml;\n",
              "          element.appendChild(docLink);\n",
              "        }\n",
              "      </script>\n",
              "    </div>\n",
              "  </div>\n",
              "  "
            ]
          },
          "metadata": {},
          "execution_count": 22
        }
      ],
      "source": [
        "hist=pd.DataFrame(history.history)\n",
        "hist['epoch']=history.epoch\n",
        "hist.tail()"
      ]
    },
    {
      "cell_type": "markdown",
      "metadata": {
        "id": "DQtTz7Jl-cEI"
      },
      "source": [
        "**model accuracy and loss graph**"
      ]
    },
    {
      "cell_type": "code",
      "execution_count": null,
      "metadata": {
        "colab": {
          "base_uri": "https://localhost:8080/",
          "height": 549
        },
        "id": "PIkVZ7138t7b",
        "outputId": "46f36084-6946-4c20-d03b-9c7bc552775c"
      },
      "outputs": [
        {
          "output_type": "display_data",
          "data": {
            "text/plain": [
              "<Figure size 432x288 with 1 Axes>"
            ],
            "image/png": "[encoded data removed]"
          },
          "metadata": {
            "needs_background": "light"
          }
        },
        {
          "output_type": "display_data",
          "data": {
            "text/plain": [
              "<Figure size 432x288 with 1 Axes>"
            ],
            "image/png": "[encoded data removed]"
          },
          "metadata": {
            "needs_background": "light"
          }
        }
      ],
      "source": [
        "def plot_history(history):\n",
        "  hist = pd.DataFrame (history.history)\n",
        "  hist ['epoch'] = history. epoch\n",
        "  plt.figure()\n",
        "  plt.xlabel('Epoch')\n",
        "  plt.ylabel('Mean Abs Error  ')\n",
        "  plt.plot(hist ['epoch'], hist['mae'],label='Train Error')\n",
        "  plt.plot(hist ['epoch'], hist['val_mae'],label = 'Val Error')\n",
        "  plt. legend ()\n",
        "  plt.ylim([0,5])\n",
        "  plt. figure ()\n",
        "  plt.xlabel('Epoch')\n",
        "  plt.ylabel( 'Mean Square Error ')\n",
        "  plt.plot (hist ['epoch'], hist ['mse'],\n",
        "  label='Train Error')\n",
        "  plt.plot (hist ['epoch'], hist ['val_mse'],\n",
        "  label = 'Val Error')\n",
        "  plt. legend ()\n",
        "  plt.ylim( [0,20])\n",
        "plot_history(history)"
      ]
    },
    {
      "cell_type": "code",
      "execution_count": null,
      "metadata": {
        "colab": {
          "base_uri": "https://localhost:8080/"
        },
        "id": "R1lXSN-Z_TS8",
        "outputId": "e24f4edb-cee9-4afb-a1da-4bbd7f6db5a3"
      },
      "outputs": [
        {
          "output_type": "stream",
          "name": "stdout",
          "text": [
            "145/145 [==============================] - 0s 2ms/step - loss: 4.4277 - mse: 4.4277 - mae: 1.1295\n"
          ]
        }
      ],
      "source": [
        "score = model.evaluate(X_test, y_test, verbose=1)\n",
        "\n"
      ]
    },
    {
      "cell_type": "code",
      "execution_count": null,
      "metadata": {
        "colab": {
          "base_uri": "https://localhost:8080/"
        },
        "id": "n_YOraTWFc59",
        "outputId": "4be5faae-f1e9-4255-9683-a72f8caf545b"
      },
      "outputs": [
        {
          "output_type": "stream",
          "name": "stdout",
          "text": [
            "145/145 [==============================] - 0s 1ms/step\n"
          ]
        }
      ],
      "source": [
        "pred=model.predict(X_test)"
      ]
    },
    {
      "cell_type": "code",
      "execution_count": null,
      "metadata": {
        "colab": {
          "base_uri": "https://localhost:8080/"
        },
        "id": "4Kfu5U-DFtKE",
        "outputId": "43bb5a3c-186f-4669-af99-cbed065c2777"
      },
      "outputs": [
        {
          "output_type": "execute_result",
          "data": {
            "text/plain": [
              "array([[ 0.13908976],\n",
              "       [ 3.7507532 ],\n",
              "       [ 2.9459434 ],\n",
              "       ...,\n",
              "       [-0.09113228],\n",
              "       [ 0.11057556],\n",
              "       [ 0.3426648 ]], dtype=float32)"
            ]
          },
          "metadata": {},
          "execution_count": 26
        }
      ],
      "source": [
        "pred "
      ]
    },
    {
      "cell_type": "code",
      "execution_count": null,
      "metadata": {
        "colab": {
          "base_uri": "https://localhost:8080/"
        },
        "id": "kNAqzYb-F7wJ",
        "outputId": "8816d487-d473-45c9-f9e0-040899a590c0"
      },
      "outputs": [
        {
          "output_type": "execute_result",
          "data": {
            "text/plain": [
              "(4639, 1)"
            ]
          },
          "metadata": {},
          "execution_count": 27
        }
      ],
      "source": [
        "shape=pred.shape\n",
        "shape"
      ]
    },
    {
      "cell_type": "code",
      "execution_count": null,
      "metadata": {
        "id": "XKpPTAKVF9rl"
      },
      "outputs": [],
      "source": [
        "y_test=y_test.numpy()"
      ]
    },
    {
      "cell_type": "code",
      "execution_count": null,
      "metadata": {
        "colab": {
          "base_uri": "https://localhost:8080/"
        },
        "id": "Sprz3_-CHGZ-",
        "outputId": "395e7af8-6e34-4811-f012-1c37a1d0578b"
      },
      "outputs": [
        {
          "output_type": "execute_result",
          "data": {
            "text/plain": [
              "(4639,)"
            ]
          },
          "metadata": {},
          "execution_count": 29
        }
      ],
      "source": [
        "y_test.shape"
      ]
    },
    {
      "cell_type": "code",
      "execution_count": null,
      "metadata": {
        "colab": {
          "base_uri": "https://localhost:8080/"
        },
        "id": "kNLIrIMMH_eQ",
        "outputId": "abfde3ca-dbe4-44bc-a579-49555cb80da4"
      },
      "outputs": [
        {
          "output_type": "execute_result",
          "data": {
            "text/plain": [
              "array([0, 2, 2, ..., 0, 0, 0])"
            ]
          },
          "metadata": {},
          "execution_count": 30
        }
      ],
      "source": [
        "y_test"
      ]
    },
    {
      "cell_type": "code",
      "execution_count": null,
      "metadata": {
        "id": "bprjdhzII-yT"
      },
      "outputs": [],
      "source": [
        "pred=pred.reshape((shape[0]))"
      ]
    },
    {
      "cell_type": "code",
      "execution_count": null,
      "metadata": {
        "colab": {
          "base_uri": "https://localhost:8080/"
        },
        "id": "MU5uzUPUIOvE",
        "outputId": "b61704c8-7d4b-4300-96ac-9f266346fbb1"
      },
      "outputs": [
        {
          "output_type": "stream",
          "name": "stdout",
          "text": [
            "predected: 0.13908976316452026,    expected: 0\n",
            "predected: 3.750753164291382,    expected: 2\n",
            "predected: 2.9459433555603027,    expected: 2\n",
            "predected: -0.011721819639205933,    expected: 0\n",
            "predected: 0.19304102659225464,    expected: 0\n",
            "predected: 0.005647242069244385,    expected: 1\n",
            "predected: 3.064751625061035,    expected: 6\n",
            "predected: 0.30692559480667114,    expected: 1\n",
            "predected: 0.230160653591156,    expected: 0\n",
            "predected: 0.04817810654640198,    expected: 0\n",
            "predected: 0.18804948031902313,    expected: 0\n",
            "predected: 0.010675936937332153,    expected: 0\n",
            "predected: 1.9885932207107544,    expected: 0\n",
            "predected: 0.2382705807685852,    expected: 4\n",
            "predected: 2.828984260559082,    expected: 3\n",
            "predected: 1.0955339670181274,    expected: 0\n",
            "predected: 1.880294919013977,    expected: 2\n",
            "predected: -0.050569087266922,    expected: 0\n",
            "predected: 0.3481844365596771,    expected: 0\n",
            "predected: 2.1679439544677734,    expected: 1\n"
          ]
        }
      ],
      "source": [
        "for i in range(20):\n",
        "  print(f\"predected: {pred[i]},    expected: {y_test[i]}\")"
      ]
    },
    {
      "cell_type": "code",
      "execution_count": null,
      "metadata": {
        "id": "b2LsSW-yKCVI"
      },
      "outputs": [],
      "source": [
        "pred=np.round(pred)"
      ]
    },
    {
      "cell_type": "code",
      "execution_count": null,
      "metadata": {
        "id": "-j9WjLL0p7lk"
      },
      "outputs": [],
      "source": [
        "points_result = pd.DataFrame({\"player name\":X_test_name_value_pos[\"name\"],\n",
        "                              'Actual point': y_test, \n",
        "                              'Predicted point': pred,\n",
        "                              \"player value\":X_test_name_value_pos['value'],\"position\":X_test_name_value_pos[\"cat_pos\"]})\n",
        "points_result.to_csv(\"points_result_mahmoud.csv\")"
      ]
    },
    {
      "cell_type": "code",
      "execution_count": null,
      "metadata": {
        "colab": {
          "base_uri": "https://localhost:8080/",
          "height": 206
        },
        "id": "Fjk49s-bFjJT",
        "outputId": "c962bccf-8e28-479b-dfa0-4c1517a58ce6"
      },
      "outputs": [
        {
          "output_type": "execute_result",
          "data": {
            "text/plain": [
              "         player name  Actual point  Predicted point  player value position\n",
              "4026   Jarosław Jach             0              0.0            44      DEF\n",
              "5453     Liam Cooper             2              4.0            45      DEF\n",
              "22934   Adam Webster             2              3.0            43      DEF\n",
              "22608  Louie Moulden             0             -0.0            40       GK\n",
              "438     James Justin             0              0.0            50      DEF"
            ],
            "text/html": [
              "\n",
              "  <div id=\"df-2590ce25-09f7-4f35-831c-4bbd9a14e875\">\n",
              "    <div class=\"colab-df-container\">\n",
              "      <div>\n",
              "<style scoped>\n",
              "    .dataframe tbody tr th:only-of-type {\n",
              "        vertical-align: middle;\n",
              "    }\n",
              "\n",
              "    .dataframe tbody tr th {\n",
              "        vertical-align: top;\n",
              "    }\n",
              "\n",
              "    .dataframe thead th {\n",
              "        text-align: right;\n",
              "    }\n",
              "</style>\n",
              "<table border=\"1\" class=\"dataframe\">\n",
              "  <thead>\n",
              "    <tr style=\"text-align: right;\">\n",
              "      <th></th>\n",
              "      <th>player name</th>\n",
              "      <th>Actual point</th>\n",
              "      <th>Predicted point</th>\n",
              "      <th>player value</th>\n",
              "      <th>position</th>\n",
              "    </tr>\n",
              "  </thead>\n",
              "  <tbody>\n",
              "    <tr>\n",
              "      <th>4026</th>\n",
              "      <td>Jarosław Jach</td>\n",
              "      <td>0</td>\n",
              "      <td>0.0</td>\n",
              "      <td>44</td>\n",
              "      <td>DEF</td>\n",
              "    </tr>\n",
              "    <tr>\n",
              "      <th>5453</th>\n",
              "      <td>Liam Cooper</td>\n",
              "      <td>2</td>\n",
              "      <td>4.0</td>\n",
              "      <td>45</td>\n",
              "      <td>DEF</td>\n",
              "    </tr>\n",
              "    <tr>\n",
              "      <th>22934</th>\n",
              "      <td>Adam Webster</td>\n",
              "      <td>2</td>\n",
              "      <td>3.0</td>\n",
              "      <td>43</td>\n",
              "      <td>DEF</td>\n",
              "    </tr>\n",
              "    <tr>\n",
              "      <th>22608</th>\n",
              "      <td>Louie Moulden</td>\n",
              "      <td>0</td>\n",
              "      <td>-0.0</td>\n",
              "      <td>40</td>\n",
              "      <td>GK</td>\n",
              "    </tr>\n",
              "    <tr>\n",
              "      <th>438</th>\n",
              "      <td>James Justin</td>\n",
              "      <td>0</td>\n",
              "      <td>0.0</td>\n",
              "      <td>50</td>\n",
              "      <td>DEF</td>\n",
              "    </tr>\n",
              "  </tbody>\n",
              "</table>\n",
              "</div>\n",
              "      <button class=\"colab-df-convert\" onclick=\"convertToInteractive('df-2590ce25-09f7-4f35-831c-4bbd9a14e875')\"\n",
              "              title=\"Convert this dataframe to an interactive table.\"\n",
              "              style=\"display:none;\">\n",
              "        \n",
              "  <svg xmlns=\"http://www.w3.org/2000/svg\" height=\"24px\"viewBox=\"0 0 24 24\"\n",
              "       width=\"24px\">\n",
              "    <path d=\"M0 0h24v24H0V0z\" fill=\"none\"/>\n",
              "    <path d=\"M18.56 5.44l.94 2.06.94-2.06 2.06-.94-2.06-.94-.94-2.06-.94 2.06-2.06.94zm-11 1L8.5 8.5l.94-2.06 2.06-.94-2.06-.94L8.5 2.5l-.94 2.06-2.06.94zm10 10l.94 2.06.94-2.06 2.06-.94-2.06-.94-.94-2.06-.94 2.06-2.06.94z\"/><path d=\"M17.41 7.96l-1.37-1.37c-.4-.4-.92-.59-1.43-.59-.52 0-1.04.2-1.43.59L10.3 9.45l-7.72 7.72c-.78.78-.78 2.05 0 2.83L4 21.41c.39.39.9.59 1.41.59.51 0 1.02-.2 1.41-.59l7.78-7.78 2.81-2.81c.8-.78.8-2.07 0-2.86zM5.41 20L4 18.59l7.72-7.72 1.47 1.35L5.41 20z\"/>\n",
              "  </svg>\n",
              "      </button>\n",
              "      \n",
              "  <style>\n",
              "    .colab-df-container {\n",
              "      display:flex;\n",
              "      flex-wrap:wrap;\n",
              "      gap: 12px;\n",
              "    }\n",
              "\n",
              "    .colab-df-convert {\n",
              "      background-color: #E8F0FE;\n",
              "      border: none;\n",
              "      border-radius: 50%;\n",
              "      cursor: pointer;\n",
              "      display: none;\n",
              "      fill: #1967D2;\n",
              "      height: 32px;\n",
              "      padding: 0 0 0 0;\n",
              "      width: 32px;\n",
              "    }\n",
              "\n",
              "    .colab-df-convert:hover {\n",
              "      background-color: #E2EBFA;\n",
              "      box-shadow: 0px 1px 2px rgba(60, 64, 67, 0.3), 0px 1px 3px 1px rgba(60, 64, 67, 0.15);\n",
              "      fill: #174EA6;\n",
              "    }\n",
              "\n",
              "    [theme=dark] .colab-df-convert {\n",
              "      background-color: #3B4455;\n",
              "      fill: #D2E3FC;\n",
              "    }\n",
              "\n",
              "    [theme=dark] .colab-df-convert:hover {\n",
              "      background-color: #434B5C;\n",
              "      box-shadow: 0px 1px 3px 1px rgba(0, 0, 0, 0.15);\n",
              "      filter: drop-shadow(0px 1px 2px rgba(0, 0, 0, 0.3));\n",
              "      fill: #FFFFFF;\n",
              "    }\n",
              "  </style>\n",
              "\n",
              "      <script>\n",
              "        const buttonEl =\n",
              "          document.querySelector('#df-2590ce25-09f7-4f35-831c-4bbd9a14e875 button.colab-df-convert');\n",
              "        buttonEl.style.display =\n",
              "          google.colab.kernel.accessAllowed ? 'block' : 'none';\n",
              "\n",
              "        async function convertToInteractive(key) {\n",
              "          const element = document.querySelector('#df-2590ce25-09f7-4f35-831c-4bbd9a14e875');\n",
              "          const dataTable =\n",
              "            await google.colab.kernel.invokeFunction('convertToInteractive',\n",
              "                                                     [key], {});\n",
              "          if (!dataTable) return;\n",
              "\n",
              "          const docLinkHtml = 'Like what you see? Visit the ' +\n",
              "            '<a target=\"_blank\" href=https://colab.research.google.com/notebooks/data_table.ipynb>data table notebook</a>'\n",
              "            + ' to learn more about interactive tables.';\n",
              "          element.innerHTML = '';\n",
              "          dataTable['output_type'] = 'display_data';\n",
              "          await google.colab.output.renderOutput(dataTable, element);\n",
              "          const docLink = document.createElement('div');\n",
              "          docLink.innerHTML = docLinkHtml;\n",
              "          element.appendChild(docLink);\n",
              "        }\n",
              "      </script>\n",
              "    </div>\n",
              "  </div>\n",
              "  "
            ]
          },
          "metadata": {},
          "execution_count": 35
        }
      ],
      "source": [
        "points_result.head()"
      ]
    }
  ],
  "metadata": {
    "accelerator": "GPU",
    "colab": {
      "provenance": []
    },
    "gpuClass": "standard",
    "kernelspec": {
      "display_name": "Python 3",
      "name": "python3"
    },
    "language_info": {
      "name": "python"
    }
  },
  "nbformat": 4,
  "nbformat_minor": 0
}