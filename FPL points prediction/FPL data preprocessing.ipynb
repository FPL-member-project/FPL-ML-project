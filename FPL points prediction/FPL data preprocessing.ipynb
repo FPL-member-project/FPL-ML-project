{
  "cells": [
    {
      "cell_type": "markdown",
      "metadata": {
        "id": "TCb2Q3gSalPu"
      },
      "source": [
        "  **Packages** **Imported** "
      ]
    },
    {
      "cell_type": "code",
      "execution_count": 105,
      "metadata": {
        "id": "B15PGt_mag6A",
        "colab": {
          "base_uri": "https://localhost:8080/"
        },
        "outputId": "0075659b-2d5e-44a0-a80e-8d5d031b2816"
      },
      "outputs": [
        {
          "output_type": "stream",
          "name": "stdout",
          "text": [
            "Drive already mounted at /content/drive; to attempt to forcibly remount, call drive.mount(\"/content/drive\", force_remount=True).\n"
          ]
        }
      ],
      "source": [
        "import pandas as pd\n",
        "import numpy as np\n",
        "import seaborn as sns\n",
        "from sklearn.model_selection import train_test_split\n",
        "import matplotlib.pyplot as plt \n",
        "from google.colab import drive\n",
        "drive.mount('/content/drive')"
      ]
    },
    {
      "cell_type": "markdown",
      "metadata": {
        "id": "JnC3qWSEa7M8"
      },
      "source": [
        "**Import** **Packages**"
      ]
    },
    {
      "cell_type": "code",
      "execution_count": 106,
      "metadata": {
        "colab": {
          "base_uri": "https://localhost:8080/"
        },
        "id": "qcgPdv6VazWF",
        "outputId": "094395d6-85a2-4e6b-b072-a594dd76aede"
      },
      "outputs": [
        {
          "output_type": "stream",
          "name": "stdout",
          "text": [
            "<class 'pandas.core.frame.DataFrame'>\n",
            "RangeIndex: 25447 entries, 0 to 25446\n",
            "Data columns (total 36 columns):\n",
            " #   Column             Non-Null Count  Dtype  \n",
            "---  ------             --------------  -----  \n",
            " 0   name               25447 non-null  object \n",
            " 1   position           25447 non-null  object \n",
            " 2   team               25447 non-null  object \n",
            " 3   xP                 25447 non-null  float64\n",
            " 4   assists            25447 non-null  int64  \n",
            " 5   bonus              25447 non-null  int64  \n",
            " 6   bps                25447 non-null  int64  \n",
            " 7   clean_sheets       25447 non-null  int64  \n",
            " 8   creativity         25447 non-null  float64\n",
            " 9   element            25447 non-null  int64  \n",
            " 10  fixture            25447 non-null  int64  \n",
            " 11  goals_conceded     25447 non-null  int64  \n",
            " 12  goals_scored       25447 non-null  int64  \n",
            " 13  ict_index          25447 non-null  float64\n",
            " 14  influence          25447 non-null  float64\n",
            " 15  kickoff_time       25447 non-null  object \n",
            " 16  minutes            25447 non-null  int64  \n",
            " 17  opponent_team      25447 non-null  int64  \n",
            " 18  own_goals          25447 non-null  int64  \n",
            " 19  penalties_missed   25447 non-null  int64  \n",
            " 20  penalties_saved    25447 non-null  int64  \n",
            " 21  red_cards          25447 non-null  int64  \n",
            " 22  round              25447 non-null  int64  \n",
            " 23  saves              25447 non-null  int64  \n",
            " 24  selected           25447 non-null  int64  \n",
            " 25  team_a_score       25447 non-null  int64  \n",
            " 26  team_h_score       25447 non-null  int64  \n",
            " 27  threat             25447 non-null  float64\n",
            " 28  total_points       25447 non-null  int64  \n",
            " 29  transfers_balance  25447 non-null  int64  \n",
            " 30  transfers_in       25447 non-null  int64  \n",
            " 31  transfers_out      25447 non-null  int64  \n",
            " 32  value              25447 non-null  int64  \n",
            " 33  was_home           25447 non-null  bool   \n",
            " 34  yellow_cards       25447 non-null  int64  \n",
            " 35  GW                 25447 non-null  int64  \n",
            "dtypes: bool(1), float64(5), int64(26), object(4)\n",
            "memory usage: 6.8+ MB\n"
          ]
        }
      ],
      "source": [
        "df=pd.read_csv(\"/content/merged_gw.csv\")\n",
        "df.info()"
      ]
    },
    {
      "cell_type": "code",
      "source": [],
      "metadata": {
        "id": "_-mE7hzPZI4F"
      },
      "execution_count": 106,
      "outputs": []
    },
    {
      "cell_type": "code",
      "execution_count": 107,
      "metadata": {
        "id": "kpy47CAtbNmQ"
      },
      "outputs": [],
      "source": [
        "teams=pd.read_csv(\"/content/teams.csv\")"
      ]
    },
    {
      "cell_type": "markdown",
      "metadata": {
        "id": "zfQ-PiVFbt-d"
      },
      "source": [
        "**Extract some data from teams to df**"
      ]
    },
    {
      "cell_type": "code",
      "execution_count": 108,
      "metadata": {
        "id": "pxcRKDJMb0Qx"
      },
      "outputs": [],
      "source": [
        "d = teams.set_index('id')['strength'].to_dict()\n",
        "df['opp_strength'] = df['opponent_team'].map(d)\n",
        "\n",
        "d = teams.set_index('id')['strength_overall_home'].to_dict()\n",
        "df['opp_strength_overall_home'] = df['opponent_team'].map(d)\n",
        "\n",
        "d = teams.set_index('id')['strength_overall_away'].to_dict()\n",
        "df['opp_strength_overall_away'] = df['opponent_team'].map(d)\n",
        "\n",
        "d = teams.set_index('id')['strength_attack_home'].to_dict()\n",
        "df['opp_strength_attack_home'] = df['opponent_team'].map(d)\n",
        "\n",
        "d = teams.set_index('id')['strength_attack_away'].to_dict()\n",
        "df['opp_strength_attack_away'] = df['opponent_team'].map(d)\n",
        "\n",
        "d = teams.set_index('id')['strength_defence_home'].to_dict()\n",
        "df['opp_strength_defence_home'] = df['opponent_team'].map(d)\n",
        "\n",
        "d = teams.set_index('id')['strength_defence_away'].to_dict()\n",
        "df['opp_strength_defence_away'] = df['opponent_team'].map(d)\n",
        "\n",
        "#################\n",
        "d = teams.set_index('name')['strength'].to_dict()\n",
        "df['strength'] = df['team'].map(d)\n",
        "\n",
        "d = teams.set_index('name')['strength_overall_home'].to_dict()\n",
        "df['strength_overall_home'] = df['team'].map(d)\n",
        "\n",
        "d = teams.set_index('name')['strength_overall_away'].to_dict()\n",
        "df['strength_overall_away'] = df['team'].map(d)\n",
        "\n",
        "d = teams.set_index('name')['strength_attack_home'].to_dict()\n",
        "df['strength_attack_home'] = df['team'].map(d)\n",
        "\n",
        "d = teams.set_index('name')['strength_attack_away'].to_dict()\n",
        "df['strength_attack_away'] = df['team'].map(d)\n",
        "\n",
        "d = teams.set_index('name')['strength_defence_home'].to_dict()\n",
        "df['strength_defence_home'] = df['team'].map(d)\n",
        "\n",
        "d = teams.set_index('name')['strength_defence_away'].to_dict()\n",
        "df['strength_defence_away'] = df['team'].map(d)"
      ]
    },
    {
      "cell_type": "markdown",
      "metadata": {
        "id": "G-FCOH-4dCWs"
      },
      "source": [
        "# Graphs"
      ]
    },
    {
      "cell_type": "markdown",
      "metadata": {
        "id": "c4osAXbCYAIh"
      },
      "source": [
        "Correlation"
      ]
    },
    {
      "cell_type": "code",
      "execution_count": 109,
      "metadata": {
        "id": "8gbZvNkfYAIi",
        "colab": {
          "base_uri": "https://localhost:8080/",
          "height": 637
        },
        "outputId": "af417ad5-f9ff-4c26-eb63-d6d3f9c32aac"
      },
      "outputs": [
        {
          "output_type": "execute_result",
          "data": {
            "text/plain": [
              "<matplotlib.axes._subplots.AxesSubplot at 0x7f1844fae940>"
            ]
          },
          "metadata": {},
          "execution_count": 109
        },
        {
          "output_type": "display_data",
          "data": {
            "text/plain": [
              "<Figure size 648x576 with 2 Axes>"
            ],
            "image/png": "[encoded data removed]"
          },
          "metadata": {
            "needs_background": "light"
          }
        }
      ],
      "source": [
        "corrmatrix = df.corr()\n",
        "  \n",
        "f, ax = plt.subplots(figsize =(9, 8))\n",
        "sns.heatmap(corrmatrix, ax = ax, cmap =\"YlGnBu\", linewidths = 0.1)"
      ]
    },
    {
      "cell_type": "markdown",
      "metadata": {
        "id": "I0LB5QyfgtKU"
      },
      "source": [
        "**Graph represent relation between position and points earned**"
      ]
    },
    {
      "cell_type": "code",
      "execution_count": 110,
      "metadata": {
        "id": "mOE-u264gbjy",
        "colab": {
          "base_uri": "https://localhost:8080/",
          "height": 297
        },
        "outputId": "3c98966c-7061-4f3e-f361-53ebde6745e8"
      },
      "outputs": [
        {
          "output_type": "execute_result",
          "data": {
            "text/plain": [
              "<matplotlib.axes._subplots.AxesSubplot at 0x7f18451235e0>"
            ]
          },
          "metadata": {},
          "execution_count": 110
        },
        {
          "output_type": "display_data",
          "data": {
            "text/plain": [
              "<Figure size 432x288 with 1 Axes>"
            ],
            "image/png": "[encoded data removed]"
          },
          "metadata": {
            "needs_background": "light"
          }
        }
      ],
      "source": [
        "sns.barplot(data=df, x=df[\"position\"], y=df[\"total_points\"])"
      ]
    },
    {
      "cell_type": "markdown",
      "metadata": {
        "id": "vQItAgkCg9Us"
      },
      "source": [
        "**Graph represent relation between position and goals scored**"
      ]
    },
    {
      "cell_type": "code",
      "execution_count": 111,
      "metadata": {
        "id": "JlEKYCYIgj4U",
        "colab": {
          "base_uri": "https://localhost:8080/",
          "height": 297
        },
        "outputId": "17a9a331-61e1-4e20-c15d-c713a5b3a34e"
      },
      "outputs": [
        {
          "output_type": "execute_result",
          "data": {
            "text/plain": [
              "<matplotlib.axes._subplots.AxesSubplot at 0x7f18449ca490>"
            ]
          },
          "metadata": {},
          "execution_count": 111
        },
        {
          "output_type": "display_data",
          "data": {
            "text/plain": [
              "<Figure size 432x288 with 1 Axes>"
            ],
            "image/png": "[encoded data removed]"
          },
          "metadata": {
            "needs_background": "light"
          }
        }
      ],
      "source": [
        "sns.barplot(data=df, x=df[\"position\"], y=df[\"goals_scored\"])"
      ]
    },
    {
      "cell_type": "markdown",
      "metadata": {
        "id": "cxC_ZiA4YAIi"
      },
      "source": [
        "# Data preprocessing "
      ]
    },
    {
      "cell_type": "code",
      "execution_count": 112,
      "metadata": {
        "id": "YUINEwxefY0Y"
      },
      "outputs": [],
      "source": [
        "df2=df.sort_values(by=['name',\"GW\"])"
      ]
    },
    {
      "cell_type": "code",
      "execution_count": 113,
      "metadata": {
        "id": "upE_krTZq40o"
      },
      "outputs": [],
      "source": [
        "df2 = df2.drop_duplicates(keep='first',subset=[\"GW\",\"name\"])"
      ]
    },
    {
      "cell_type": "code",
      "execution_count": 114,
      "metadata": {
        "id": "4kBGWwPOO82R"
      },
      "outputs": [],
      "source": [
        "df2 = df2.reset_index(drop=True)"
      ]
    },
    {
      "cell_type": "markdown",
      "metadata": {
        "id": "dqIcwMCfSRnI"
      },
      "source": [
        "**Shift** **total** **point** "
      ]
    },
    {
      "cell_type": "code",
      "execution_count": 115,
      "metadata": {
        "id": "4S2u-USrF9gz"
      },
      "outputs": [],
      "source": [
        "for i in range(1, len(df2)-1):\n",
        "  if (df2.loc[i+1,\"name\"]==df2.loc[i,\"name\"]) and (df2.loc[i+1,\"GW\"]==df2.loc[i,\"GW\"]+1):\n",
        "    df2.loc[i,\"total_points\"] = df2.loc[i+1,\"total_points\"]\n"
      ]
    },
    {
      "cell_type": "code",
      "execution_count": 116,
      "metadata": {
        "id": "XGFKtokgVN41"
      },
      "outputs": [],
      "source": [
        "df2.drop(['kickoff_time'], axis = 1, inplace = True) "
      ]
    },
    {
      "cell_type": "markdown",
      "metadata": {
        "id": "U6UazkhlT_6t"
      },
      "source": [
        "**Normalize Data**"
      ]
    },
    {
      "cell_type": "code",
      "source": [
        "df2.info()"
      ],
      "metadata": {
        "colab": {
          "base_uri": "https://localhost:8080/"
        },
        "id": "02E1J32fahNY",
        "outputId": "5ece35b3-4d9c-4d08-d25d-7e436dd2c40d"
      },
      "execution_count": 117,
      "outputs": [
        {
          "output_type": "stream",
          "name": "stdout",
          "text": [
            "<class 'pandas.core.frame.DataFrame'>\n",
            "RangeIndex: 23194 entries, 0 to 23193\n",
            "Data columns (total 49 columns):\n",
            " #   Column                     Non-Null Count  Dtype  \n",
            "---  ------                     --------------  -----  \n",
            " 0   name                       23194 non-null  object \n",
            " 1   position                   23194 non-null  object \n",
            " 2   team                       23194 non-null  object \n",
            " 3   xP                         23194 non-null  float64\n",
            " 4   assists                    23194 non-null  int64  \n",
            " 5   bonus                      23194 non-null  int64  \n",
            " 6   bps                        23194 non-null  int64  \n",
            " 7   clean_sheets               23194 non-null  int64  \n",
            " 8   creativity                 23194 non-null  float64\n",
            " 9   element                    23194 non-null  int64  \n",
            " 10  fixture                    23194 non-null  int64  \n",
            " 11  goals_conceded             23194 non-null  int64  \n",
            " 12  goals_scored               23194 non-null  int64  \n",
            " 13  ict_index                  23194 non-null  float64\n",
            " 14  influence                  23194 non-null  float64\n",
            " 15  minutes                    23194 non-null  int64  \n",
            " 16  opponent_team              23194 non-null  int64  \n",
            " 17  own_goals                  23194 non-null  int64  \n",
            " 18  penalties_missed           23194 non-null  int64  \n",
            " 19  penalties_saved            23194 non-null  int64  \n",
            " 20  red_cards                  23194 non-null  int64  \n",
            " 21  round                      23194 non-null  int64  \n",
            " 22  saves                      23194 non-null  int64  \n",
            " 23  selected                   23194 non-null  int64  \n",
            " 24  team_a_score               23194 non-null  int64  \n",
            " 25  team_h_score               23194 non-null  int64  \n",
            " 26  threat                     23194 non-null  float64\n",
            " 27  total_points               23194 non-null  int64  \n",
            " 28  transfers_balance          23194 non-null  int64  \n",
            " 29  transfers_in               23194 non-null  int64  \n",
            " 30  transfers_out              23194 non-null  int64  \n",
            " 31  value                      23194 non-null  int64  \n",
            " 32  was_home                   23194 non-null  bool   \n",
            " 33  yellow_cards               23194 non-null  int64  \n",
            " 34  GW                         23194 non-null  int64  \n",
            " 35  opp_strength               23194 non-null  int64  \n",
            " 36  opp_strength_overall_home  23194 non-null  int64  \n",
            " 37  opp_strength_overall_away  23194 non-null  int64  \n",
            " 38  opp_strength_attack_home   23194 non-null  int64  \n",
            " 39  opp_strength_attack_away   23194 non-null  int64  \n",
            " 40  opp_strength_defence_home  23194 non-null  int64  \n",
            " 41  opp_strength_defence_away  23194 non-null  int64  \n",
            " 42  strength                   23194 non-null  int64  \n",
            " 43  strength_overall_home      23194 non-null  int64  \n",
            " 44  strength_overall_away      23194 non-null  int64  \n",
            " 45  strength_attack_home       23194 non-null  int64  \n",
            " 46  strength_attack_away       23194 non-null  int64  \n",
            " 47  strength_defence_home      23194 non-null  int64  \n",
            " 48  strength_defence_away      23194 non-null  int64  \n",
            "dtypes: bool(1), float64(5), int64(40), object(3)\n",
            "memory usage: 8.5+ MB\n"
          ]
        }
      ]
    },
    {
      "cell_type": "code",
      "execution_count": 118,
      "metadata": {
        "id": "xY0zh6umUD7O"
      },
      "outputs": [],
      "source": [
        "for column in df2.iloc[:,35:49]:\n",
        "    df2[column]=(df2[column] - df2[column].mean()) / df2[column].std() \n",
        "for column in df2.iloc[:,8:11]:\n",
        "    df2[column]=(df2[column] - df2[column].mean()) / df2[column].std() \n",
        "for column in df2.iloc[:,28:31]:\n",
        "    df2[column]=(df2[column] - df2[column].mean()) / df2[column].std() \n",
        "df2[\"selected\"]=(df2[\"selected\"] - df2[\"selected\"].mean()) / df2[\"selected\"].std() \n",
        "df2[\"ict_index\"]=(df2[\"ict_index\"] - df2[\"ict_index\"].mean()) / df2[\"ict_index\"].std() \n",
        "df2[\"bps\"]=(df2[\"bps\"] - df2[\"bps\"].mean()) / df2[\"bps\"].std() \n",
        "df2[\"influence\"]=(df2[\"influence\"] - df2[\"influence\"].mean()) / df2[\"influence\"].std() \n"
      ]
    },
    {
      "cell_type": "markdown",
      "metadata": {
        "id": "s9FlN8tTSZbZ"
      },
      "source": [
        "**EnCode**"
      ]
    },
    {
      "cell_type": "code",
      "execution_count": 119,
      "metadata": {
        "id": "IaQMuVyHTvuy"
      },
      "outputs": [],
      "source": [
        "df2.was_home = df2.was_home.replace({True: 1, False: 0})"
      ]
    },
    {
      "cell_type": "code",
      "execution_count": 120,
      "metadata": {
        "id": "Jtyl0jULUgud"
      },
      "outputs": [],
      "source": [
        "df2 = pd.get_dummies(df2, columns = ['position'])"
      ]
    },
    {
      "cell_type": "markdown",
      "metadata": {
        "id": "immtiAA4b3D6"
      },
      "source": [
        "**return dataframe to its original form**"
      ]
    },
    {
      "cell_type": "code",
      "execution_count": 121,
      "metadata": {
        "id": "BCxZT-X-b9fE"
      },
      "outputs": [],
      "source": [
        "df2=df2.sort_values(by=[\"GW\"])"
      ]
    },
    {
      "cell_type": "code",
      "execution_count": 122,
      "metadata": {
        "id": "BOyPFoLpcCWH"
      },
      "outputs": [],
      "source": [
        "df2 = df2.reset_index(drop=True)"
      ]
    },
    {
      "cell_type": "code",
      "execution_count": 123,
      "metadata": {
        "id": "NmVW7yYRcDJN",
        "colab": {
          "base_uri": "https://localhost:8080/"
        },
        "outputId": "1cbd7f68-975a-4182-8cfa-14ff38bef4e3"
      },
      "outputs": [
        {
          "output_type": "stream",
          "name": "stdout",
          "text": [
            "<class 'pandas.core.frame.DataFrame'>\n",
            "RangeIndex: 23194 entries, 0 to 23193\n",
            "Data columns (total 53 columns):\n",
            " #   Column                     Non-Null Count  Dtype  \n",
            "---  ------                     --------------  -----  \n",
            " 0   name                       23194 non-null  object \n",
            " 1   team                       23194 non-null  object \n",
            " 2   xP                         23194 non-null  float64\n",
            " 3   assists                    23194 non-null  int64  \n",
            " 4   bonus                      23194 non-null  int64  \n",
            " 5   bps                        23194 non-null  float64\n",
            " 6   clean_sheets               23194 non-null  int64  \n",
            " 7   creativity                 23194 non-null  float64\n",
            " 8   element                    23194 non-null  float64\n",
            " 9   fixture                    23194 non-null  float64\n",
            " 10  goals_conceded             23194 non-null  int64  \n",
            " 11  goals_scored               23194 non-null  int64  \n",
            " 12  ict_index                  23194 non-null  float64\n",
            " 13  influence                  23194 non-null  float64\n",
            " 14  minutes                    23194 non-null  int64  \n",
            " 15  opponent_team              23194 non-null  int64  \n",
            " 16  own_goals                  23194 non-null  int64  \n",
            " 17  penalties_missed           23194 non-null  int64  \n",
            " 18  penalties_saved            23194 non-null  int64  \n",
            " 19  red_cards                  23194 non-null  int64  \n",
            " 20  round                      23194 non-null  int64  \n",
            " 21  saves                      23194 non-null  int64  \n",
            " 22  selected                   23194 non-null  float64\n",
            " 23  team_a_score               23194 non-null  int64  \n",
            " 24  team_h_score               23194 non-null  int64  \n",
            " 25  threat                     23194 non-null  float64\n",
            " 26  total_points               23194 non-null  int64  \n",
            " 27  transfers_balance          23194 non-null  float64\n",
            " 28  transfers_in               23194 non-null  float64\n",
            " 29  transfers_out              23194 non-null  float64\n",
            " 30  value                      23194 non-null  int64  \n",
            " 31  was_home                   23194 non-null  int64  \n",
            " 32  yellow_cards               23194 non-null  int64  \n",
            " 33  GW                         23194 non-null  int64  \n",
            " 34  opp_strength               23194 non-null  float64\n",
            " 35  opp_strength_overall_home  23194 non-null  float64\n",
            " 36  opp_strength_overall_away  23194 non-null  float64\n",
            " 37  opp_strength_attack_home   23194 non-null  float64\n",
            " 38  opp_strength_attack_away   23194 non-null  float64\n",
            " 39  opp_strength_defence_home  23194 non-null  float64\n",
            " 40  opp_strength_defence_away  23194 non-null  float64\n",
            " 41  strength                   23194 non-null  float64\n",
            " 42  strength_overall_home      23194 non-null  float64\n",
            " 43  strength_overall_away      23194 non-null  float64\n",
            " 44  strength_attack_home       23194 non-null  float64\n",
            " 45  strength_attack_away       23194 non-null  float64\n",
            " 46  strength_defence_home      23194 non-null  float64\n",
            " 47  strength_defence_away      23194 non-null  float64\n",
            " 48  position_DEF               23194 non-null  uint8  \n",
            " 49  position_FWD               23194 non-null  uint8  \n",
            " 50  position_GK                23194 non-null  uint8  \n",
            " 51  position_GKP               23194 non-null  uint8  \n",
            " 52  position_MID               23194 non-null  uint8  \n",
            "dtypes: float64(26), int64(20), object(2), uint8(5)\n",
            "memory usage: 8.6+ MB\n"
          ]
        }
      ],
      "source": [
        "df2.info()"
      ]
    },
    {
      "cell_type": "code",
      "execution_count": 124,
      "metadata": {
        "id": "eQdfreNVhy0F"
      },
      "outputs": [],
      "source": [
        "df2.to_csv(\"players_data.csv\")"
      ]
    },
    {
      "cell_type": "code",
      "source": [],
      "metadata": {
        "id": "qoKwXpRMensu"
      },
      "execution_count": 124,
      "outputs": []
    }
  ],
  "metadata": {
    "colab": {
      "provenance": []
    },
    "kernelspec": {
      "display_name": "Python 3 (ipykernel)",
      "language": "python",
      "name": "python3"
    },
    "language_info": {
      "codemirror_mode": {
        "name": "ipython",
        "version": 3
      },
      "file_extension": ".py",
      "mimetype": "text/x-python",
      "name": "python",
      "nbconvert_exporter": "python",
      "pygments_lexer": "ipython3",
      "version": "3.9.13"
    }
  },
  "nbformat": 4,
  "nbformat_minor": 0
}