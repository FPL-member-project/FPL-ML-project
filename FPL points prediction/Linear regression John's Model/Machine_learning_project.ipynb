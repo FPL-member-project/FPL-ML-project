{
  "nbformat": 4,
  "nbformat_minor": 0,
  "metadata": {
    "colab": {
      "provenance": []
    },
    "kernelspec": {
      "name": "python3",
      "display_name": "Python 3"
    },
    "language_info": {
      "name": "python"
    }
  },
  "cells": [
    {
      "cell_type": "markdown",
      "source": [
        "**Importing liberaries**"
      ],
      "metadata": {
        "id": "jNVud1N86ox_"
      }
    },
    {
      "cell_type": "code",
      "execution_count": 11,
      "metadata": {
        "id": "ptKEx8ww3aIP"
      },
      "outputs": [],
      "source": [
        "import pandas as pd\n",
        "import numpy as np\n",
        "import seaborn as sns\n",
        "from sklearn.model_selection import train_test_split\n",
        "import matplotlib as mpl\n",
        "from mpl_toolkits.mplot3d import Axes3D\n",
        "import matplotlib.pyplot as plt\n",
        "from sklearn.linear_model import LinearRegression"
      ]
    },
    {
      "cell_type": "markdown",
      "source": [
        "**Reading CSv data file**"
      ],
      "metadata": {
        "id": "-CZe81O46x1P"
      }
    },
    {
      "cell_type": "code",
      "source": [
        "df=pd.read_csv(\"players_data.csv\")\n",
        "df.info()"
      ],
      "metadata": {
        "colab": {
          "base_uri": "https://localhost:8080/"
        },
        "id": "MAufMBP63t0X",
        "outputId": "61cf60b1-f81c-4640-9d41-4ba65b473b4a"
      },
      "execution_count": 12,
      "outputs": [
        {
          "output_type": "stream",
          "name": "stdout",
          "text": [
            "<class 'pandas.core.frame.DataFrame'>\n",
            "RangeIndex: 23194 entries, 0 to 23193\n",
            "Data columns (total 55 columns):\n",
            " #   Column                     Non-Null Count  Dtype  \n",
            "---  ------                     --------------  -----  \n",
            " 0   Unnamed: 0                 23194 non-null  int64  \n",
            " 1   name                       23194 non-null  object \n",
            " 2   team                       23194 non-null  object \n",
            " 3   xP                         23194 non-null  float64\n",
            " 4   assists                    23194 non-null  int64  \n",
            " 5   bonus                      23194 non-null  int64  \n",
            " 6   bps                        23194 non-null  float64\n",
            " 7   clean_sheets               23194 non-null  int64  \n",
            " 8   creativity                 23194 non-null  float64\n",
            " 9   element                    23194 non-null  float64\n",
            " 10  fixture                    23194 non-null  float64\n",
            " 11  goals_conceded             23194 non-null  int64  \n",
            " 12  goals_scored               23194 non-null  int64  \n",
            " 13  ict_index                  23194 non-null  float64\n",
            " 14  influence                  23194 non-null  float64\n",
            " 15  minutes                    23194 non-null  int64  \n",
            " 16  opponent_team              23194 non-null  int64  \n",
            " 17  own_goals                  23194 non-null  int64  \n",
            " 18  penalties_missed           23194 non-null  int64  \n",
            " 19  penalties_saved            23194 non-null  int64  \n",
            " 20  red_cards                  23194 non-null  int64  \n",
            " 21  round                      23194 non-null  int64  \n",
            " 22  saves                      23194 non-null  int64  \n",
            " 23  selected                   23194 non-null  float64\n",
            " 24  team_a_score               23194 non-null  int64  \n",
            " 25  team_h_score               23194 non-null  int64  \n",
            " 26  threat                     23194 non-null  float64\n",
            " 27  total_points               23194 non-null  int64  \n",
            " 28  transfers_balance          23194 non-null  float64\n",
            " 29  transfers_in               23194 non-null  float64\n",
            " 30  transfers_out              23194 non-null  float64\n",
            " 31  value                      23194 non-null  int64  \n",
            " 32  was_home                   23194 non-null  int64  \n",
            " 33  yellow_cards               23194 non-null  int64  \n",
            " 34  GW                         23194 non-null  int64  \n",
            " 35  opp_strength               23194 non-null  float64\n",
            " 36  opp_strength_overall_home  23194 non-null  float64\n",
            " 37  opp_strength_overall_away  23194 non-null  float64\n",
            " 38  opp_strength_attack_home   23194 non-null  float64\n",
            " 39  opp_strength_attack_away   23194 non-null  float64\n",
            " 40  opp_strength_defence_home  23194 non-null  float64\n",
            " 41  opp_strength_defence_away  23194 non-null  float64\n",
            " 42  strength                   23194 non-null  float64\n",
            " 43  strength_overall_home      23194 non-null  float64\n",
            " 44  strength_overall_away      23194 non-null  float64\n",
            " 45  strength_attack_home       23194 non-null  float64\n",
            " 46  strength_attack_away       23194 non-null  float64\n",
            " 47  strength_defence_home      23194 non-null  float64\n",
            " 48  strength_defence_away      23194 non-null  float64\n",
            " 49  cat_pos                    23194 non-null  object \n",
            " 50  position_DEF               23194 non-null  int64  \n",
            " 51  position_FWD               23194 non-null  int64  \n",
            " 52  position_GK                23194 non-null  int64  \n",
            " 53  position_GKP               23194 non-null  int64  \n",
            " 54  position_MID               23194 non-null  int64  \n",
            "dtypes: float64(26), int64(26), object(3)\n",
            "memory usage: 9.7+ MB\n"
          ]
        }
      ]
    },
    {
      "cell_type": "markdown",
      "source": [
        "**Spliting data to features and target and drop useless features**"
      ],
      "metadata": {
        "id": "95i7s3ot68Bp"
      }
    },
    {
      "cell_type": "code",
      "source": [
        "feature = df.drop(['Unnamed: 0','total_points', \"team\",\"GW\",\"round\"],axis = 1)\n",
        "target = df['total_points']"
      ],
      "metadata": {
        "id": "2Mamzbhx4xo7"
      },
      "execution_count": 13,
      "outputs": []
    },
    {
      "cell_type": "markdown",
      "source": [
        "**Spliting data to train and test data**"
      ],
      "metadata": {
        "id": "nIxoDMFD7Ksl"
      }
    },
    {
      "cell_type": "code",
      "source": [
        "X_train, X_test, y_train, y_test = train_test_split(feature, target, test_size=0.20, random_state=0)"
      ],
      "metadata": {
        "id": "uUYghFUp5MU2"
      },
      "execution_count": 14,
      "outputs": []
    },
    {
      "cell_type": "code",
      "source": [
        "X_train_name_value_pos=X_train[[\"name\",\"value\",\"cat_pos\"]]\n",
        "X_test_name_value_pos=X_test[[\"name\",\"value\",\"cat_pos\"]]"
      ],
      "metadata": {
        "id": "pmGmbA36APhm"
      },
      "execution_count": 15,
      "outputs": []
    },
    {
      "cell_type": "code",
      "source": [
        "X_train.drop([\"name\",\"value\",\"cat_pos\"],axis=1,inplace=True)\n",
        "X_test.drop([\"name\",\"value\",\"cat_pos\"],axis=1,inplace=True)"
      ],
      "metadata": {
        "id": "n_22yEFXAQb5"
      },
      "execution_count": 16,
      "outputs": []
    },
    {
      "cell_type": "code",
      "source": [
        "from sklearn.linear_model import LinearRegression\n",
        "lin = LinearRegression()\n",
        "lin.fit(X_train, y_train)"
      ],
      "metadata": {
        "id": "KQtr6Xt76WGX",
        "colab": {
          "base_uri": "https://localhost:8080/"
        },
        "outputId": "659ca943-c12d-45a1-cdce-9bc11ff30d1c"
      },
      "execution_count": 17,
      "outputs": [
        {
          "output_type": "execute_result",
          "data": {
            "text/plain": [
              "LinearRegression()"
            ]
          },
          "metadata": {},
          "execution_count": 17
        }
      ]
    },
    {
      "cell_type": "code",
      "source": [
        "predect = lin.predict(X_test)"
      ],
      "metadata": {
        "id": "rQSNptLX7Z6r"
      },
      "execution_count": 19,
      "outputs": []
    },
    {
      "cell_type": "code",
      "source": [
        "print(\"Intercept: \", lin.intercept_)\n",
        "print(\"Coefficients:\")\n",
        "list(zip(feature, lin.coef_))"
      ],
      "metadata": {
        "colab": {
          "base_uri": "https://localhost:8080/"
        },
        "id": "xLw9cvQKCBS5",
        "outputId": "5ee9bed6-d2ae-4d87-82d6-6819ee5d8cd3"
      },
      "execution_count": 20,
      "outputs": [
        {
          "output_type": "stream",
          "name": "stdout",
          "text": [
            "Intercept:  -0.12510652564871294\n",
            "Coefficients:\n"
          ]
        },
        {
          "output_type": "execute_result",
          "data": {
            "text/plain": [
              "[('name', 0.14117403615316015),\n",
              " ('xP', 0.48629348996647104),\n",
              " ('assists', -0.05588435723264114),\n",
              " ('bonus', 0.21838250036321055),\n",
              " ('bps', 0.03682197993372636),\n",
              " ('clean_sheets', 0.7838548646202085),\n",
              " ('creativity', -0.05794392467353813),\n",
              " ('element', -0.03263839850732591),\n",
              " ('fixture', -0.08080380253602346),\n",
              " ('goals_conceded', 1.079949235771406),\n",
              " ('goals_scored', -2.197724468309756),\n",
              " ('ict_index', 0.6045656357958669),\n",
              " ('influence', 0.02146155502883375),\n",
              " ('minutes', 0.0007952610398196889),\n",
              " ('opponent_team', -0.27446182433143895),\n",
              " ('own_goals', -0.38586411463346576),\n",
              " ('penalties_missed', 1.670765640267483),\n",
              " ('penalties_saved', -1.206756728160315),\n",
              " ('red_cards', 0.21860584801262412),\n",
              " ('saves', 0.17793607340097395),\n",
              " ('selected', 0.017583817780794764),\n",
              " ('team_a_score', -0.0014669631479356266),\n",
              " ('team_h_score', 0.08475195538829579),\n",
              " ('threat', -2.8255699672959995),\n",
              " ('transfers_balance', 2.3997021173347184),\n",
              " ('transfers_in', -2.0667250531462633),\n",
              " ('transfers_out', -0.08734061680084304),\n",
              " ('value', -0.102799648523585),\n",
              " ('was_home', -0.0003302277571518698),\n",
              " ('yellow_cards', -0.0013511870967683657),\n",
              " ('opp_strength', 0.0825841915797867),\n",
              " ('opp_strength_overall_home', -0.08650318103102636),\n",
              " ('opp_strength_overall_away', 0.20532156775426677),\n",
              " ('opp_strength_attack_home', 0.061301727686265094),\n",
              " ('opp_strength_attack_away', -0.14876610024027298),\n",
              " ('opp_strength_defence_home', 0.04198534296470205),\n",
              " ('opp_strength_defence_away', -0.1048239929280086),\n",
              " ('strength', 0.08143775250396344),\n",
              " ('strength_overall_home', -0.00831430076686153),\n",
              " ('strength_overall_away', 0.07716515531824647),\n",
              " ('strength_attack_home', -0.0779545161982216),\n",
              " ('strength_attack_away', 0.09250276157600341),\n",
              " ('strength_defence_home', 0.07572836936283249),\n",
              " ('strength_defence_away', 0.11272409274456228),\n",
              " ('cat_pos', -0.065011565847963),\n",
              " ('position_DEF', -0.29082647070141787),\n",
              " ('position_FWD', 0.1673855744063481)]"
            ]
          },
          "metadata": {},
          "execution_count": 20
        }
      ]
    },
    {
      "cell_type": "code",
      "source": [
        "mlr_diff = pd.DataFrame({'Actual value': y_test, 'Predicted value': predect})\n",
        "mlr_diff.head(10)"
      ],
      "metadata": {
        "colab": {
          "base_uri": "https://localhost:8080/",
          "height": 363
        },
        "id": "7ppoHuB3Dk73",
        "outputId": "1710e770-3554-4355-e784-f5b137175ba7"
      },
      "execution_count": 21,
      "outputs": [
        {
          "output_type": "execute_result",
          "data": {
            "text/plain": [
              "       Actual value  Predicted value\n",
              "4026              0         0.289454\n",
              "5453              2         2.295080\n",
              "22934             2         2.645883\n",
              "22608             0         0.195179\n",
              "438               0         0.360857\n",
              "10568             1         0.385368\n",
              "19825             6         1.798298\n",
              "6033              1         0.306421\n",
              "4194              0         0.468132\n",
              "10220             0         0.282890"
            ],
            "text/html": [
              "\n",
              "  <div id=\"df-7a3e22d9-23f4-4379-90b8-b61a2c548734\">\n",
              "    <div class=\"colab-df-container\">\n",
              "      <div>\n",
              "<style scoped>\n",
              "    .dataframe tbody tr th:only-of-type {\n",
              "        vertical-align: middle;\n",
              "    }\n",
              "\n",
              "    .dataframe tbody tr th {\n",
              "        vertical-align: top;\n",
              "    }\n",
              "\n",
              "    .dataframe thead th {\n",
              "        text-align: right;\n",
              "    }\n",
              "</style>\n",
              "<table border=\"1\" class=\"dataframe\">\n",
              "  <thead>\n",
              "    <tr style=\"text-align: right;\">\n",
              "      <th></th>\n",
              "      <th>Actual value</th>\n",
              "      <th>Predicted value</th>\n",
              "    </tr>\n",
              "  </thead>\n",
              "  <tbody>\n",
              "    <tr>\n",
              "      <th>4026</th>\n",
              "      <td>0</td>\n",
              "      <td>0.289454</td>\n",
              "    </tr>\n",
              "    <tr>\n",
              "      <th>5453</th>\n",
              "      <td>2</td>\n",
              "      <td>2.295080</td>\n",
              "    </tr>\n",
              "    <tr>\n",
              "      <th>22934</th>\n",
              "      <td>2</td>\n",
              "      <td>2.645883</td>\n",
              "    </tr>\n",
              "    <tr>\n",
              "      <th>22608</th>\n",
              "      <td>0</td>\n",
              "      <td>0.195179</td>\n",
              "    </tr>\n",
              "    <tr>\n",
              "      <th>438</th>\n",
              "      <td>0</td>\n",
              "      <td>0.360857</td>\n",
              "    </tr>\n",
              "    <tr>\n",
              "      <th>10568</th>\n",
              "      <td>1</td>\n",
              "      <td>0.385368</td>\n",
              "    </tr>\n",
              "    <tr>\n",
              "      <th>19825</th>\n",
              "      <td>6</td>\n",
              "      <td>1.798298</td>\n",
              "    </tr>\n",
              "    <tr>\n",
              "      <th>6033</th>\n",
              "      <td>1</td>\n",
              "      <td>0.306421</td>\n",
              "    </tr>\n",
              "    <tr>\n",
              "      <th>4194</th>\n",
              "      <td>0</td>\n",
              "      <td>0.468132</td>\n",
              "    </tr>\n",
              "    <tr>\n",
              "      <th>10220</th>\n",
              "      <td>0</td>\n",
              "      <td>0.282890</td>\n",
              "    </tr>\n",
              "  </tbody>\n",
              "</table>\n",
              "</div>\n",
              "      <button class=\"colab-df-convert\" onclick=\"convertToInteractive('df-7a3e22d9-23f4-4379-90b8-b61a2c548734')\"\n",
              "              title=\"Convert this dataframe to an interactive table.\"\n",
              "              style=\"display:none;\">\n",
              "        \n",
              "  <svg xmlns=\"http://www.w3.org/2000/svg\" height=\"24px\"viewBox=\"0 0 24 24\"\n",
              "       width=\"24px\">\n",
              "    <path d=\"M0 0h24v24H0V0z\" fill=\"none\"/>\n",
              "    <path d=\"M18.56 5.44l.94 2.06.94-2.06 2.06-.94-2.06-.94-.94-2.06-.94 2.06-2.06.94zm-11 1L8.5 8.5l.94-2.06 2.06-.94-2.06-.94L8.5 2.5l-.94 2.06-2.06.94zm10 10l.94 2.06.94-2.06 2.06-.94-2.06-.94-.94-2.06-.94 2.06-2.06.94z\"/><path d=\"M17.41 7.96l-1.37-1.37c-.4-.4-.92-.59-1.43-.59-.52 0-1.04.2-1.43.59L10.3 9.45l-7.72 7.72c-.78.78-.78 2.05 0 2.83L4 21.41c.39.39.9.59 1.41.59.51 0 1.02-.2 1.41-.59l7.78-7.78 2.81-2.81c.8-.78.8-2.07 0-2.86zM5.41 20L4 18.59l7.72-7.72 1.47 1.35L5.41 20z\"/>\n",
              "  </svg>\n",
              "      </button>\n",
              "      \n",
              "  <style>\n",
              "    .colab-df-container {\n",
              "      display:flex;\n",
              "      flex-wrap:wrap;\n",
              "      gap: 12px;\n",
              "    }\n",
              "\n",
              "    .colab-df-convert {\n",
              "      background-color: #E8F0FE;\n",
              "      border: none;\n",
              "      border-radius: 50%;\n",
              "      cursor: pointer;\n",
              "      display: none;\n",
              "      fill: #1967D2;\n",
              "      height: 32px;\n",
              "      padding: 0 0 0 0;\n",
              "      width: 32px;\n",
              "    }\n",
              "\n",
              "    .colab-df-convert:hover {\n",
              "      background-color: #E2EBFA;\n",
              "      box-shadow: 0px 1px 2px rgba(60, 64, 67, 0.3), 0px 1px 3px 1px rgba(60, 64, 67, 0.15);\n",
              "      fill: #174EA6;\n",
              "    }\n",
              "\n",
              "    [theme=dark] .colab-df-convert {\n",
              "      background-color: #3B4455;\n",
              "      fill: #D2E3FC;\n",
              "    }\n",
              "\n",
              "    [theme=dark] .colab-df-convert:hover {\n",
              "      background-color: #434B5C;\n",
              "      box-shadow: 0px 1px 3px 1px rgba(0, 0, 0, 0.15);\n",
              "      filter: drop-shadow(0px 1px 2px rgba(0, 0, 0, 0.3));\n",
              "      fill: #FFFFFF;\n",
              "    }\n",
              "  </style>\n",
              "\n",
              "      <script>\n",
              "        const buttonEl =\n",
              "          document.querySelector('#df-7a3e22d9-23f4-4379-90b8-b61a2c548734 button.colab-df-convert');\n",
              "        buttonEl.style.display =\n",
              "          google.colab.kernel.accessAllowed ? 'block' : 'none';\n",
              "\n",
              "        async function convertToInteractive(key) {\n",
              "          const element = document.querySelector('#df-7a3e22d9-23f4-4379-90b8-b61a2c548734');\n",
              "          const dataTable =\n",
              "            await google.colab.kernel.invokeFunction('convertToInteractive',\n",
              "                                                     [key], {});\n",
              "          if (!dataTable) return;\n",
              "\n",
              "          const docLinkHtml = 'Like what you see? Visit the ' +\n",
              "            '<a target=\"_blank\" href=https://colab.research.google.com/notebooks/data_table.ipynb>data table notebook</a>'\n",
              "            + ' to learn more about interactive tables.';\n",
              "          element.innerHTML = '';\n",
              "          dataTable['output_type'] = 'display_data';\n",
              "          await google.colab.output.renderOutput(dataTable, element);\n",
              "          const docLink = document.createElement('div');\n",
              "          docLink.innerHTML = docLinkHtml;\n",
              "          element.appendChild(docLink);\n",
              "        }\n",
              "      </script>\n",
              "    </div>\n",
              "  </div>\n",
              "  "
            ]
          },
          "metadata": {},
          "execution_count": 21
        }
      ]
    },
    {
      "cell_type": "code",
      "source": [
        "import sklearn.metrics as sm\n",
        "print(\"Mean absolute error =\", round(sm.mean_absolute_error(y_test, predect), 2)) \n",
        "print(\"Mean squared error =\", round(sm.mean_squared_error(y_test, predect), 2)) \n",
        "print(\"Median absolute error =\", round(sm.median_absolute_error(y_test, predect), 2)) \n",
        "print(\"Explain variance score =\", round(sm.explained_variance_score(y_test, predect), 2)) \n",
        "print(\"R2 score =\", round(sm.r2_score(y_test, predect), 2))"
      ],
      "metadata": {
        "colab": {
          "base_uri": "https://localhost:8080/"
        },
        "id": "_--L6YydDqxv",
        "outputId": "86c28a56-5f27-46f3-bf3e-9890238493de"
      },
      "execution_count": 22,
      "outputs": [
        {
          "output_type": "stream",
          "name": "stdout",
          "text": [
            "Mean absolute error = 1.13\n",
            "Mean squared error = 4.18\n",
            "Median absolute error = 0.48\n",
            "Explain variance score = 0.29\n",
            "R2 score = 0.29\n"
          ]
        }
      ]
    },
    {
      "cell_type": "code",
      "source": [
        "points_result = pd.DataFrame({\"player name\":X_test_name_value_pos[\"name\"],\n",
        "                              'Actual point': y_test, \n",
        "                              'Predicted point': predect,\n",
        "                              \"player value\":X_test_name_value_pos['value'],\"position\":X_test_name_value_pos[\"cat_pos\"]})\n",
        "points_result.to_csv(\"points_result_john.csv\")"
      ],
      "metadata": {
        "id": "-ErA1Nvyxq56"
      },
      "execution_count": 26,
      "outputs": []
    }
  ]
}