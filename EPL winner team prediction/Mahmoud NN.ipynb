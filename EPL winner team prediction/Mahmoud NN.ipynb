{
  "cells": [
    {
      "cell_type": "markdown",
      "metadata": {
        "id": "3WcBxl67Lkpk"
      },
      "source": [
        "**Imported Packages**"
      ]
    },
    {
      "cell_type": "code",
      "execution_count": 1,
      "metadata": {
        "id": "nNWYByRBFKwo",
        "colab": {
          "base_uri": "https://localhost:8080/"
        },
        "outputId": "4e467bba-6c39-465a-ca9c-9525ecde0dc4"
      },
      "outputs": [
        {
          "output_type": "stream",
          "name": "stdout",
          "text": [
            "\u001b[K     |████████████████████████████████| 135 kB 32.6 MB/s \n",
            "\u001b[K     |████████████████████████████████| 1.6 MB 46.0 MB/s \n",
            "\u001b[?25h"
          ]
        }
      ],
      "source": [
        "!pip install -q -U keras-tuner"
      ]
    },
    {
      "cell_type": "code",
      "execution_count": 2,
      "metadata": {
        "id": "zw9u-19ZLPFT"
      },
      "outputs": [],
      "source": [
        "import pandas as pd\n",
        "import numpy as np\n",
        "from sklearn.model_selection import train_test_split\n",
        "import tensorflow as tf\n",
        "from keras.utils import np_utils\n",
        "from sklearn.preprocessing import LabelEncoder\n",
        "from tensorflow import keras\n",
        "from tensorflow.keras import layers\n",
        "import matplotlib.pyplot as plt \n",
        "from sklearn.model_selection import GridSearchCV,KFold\n",
        "from sklearn.metrics import accuracy_score, precision_score, recall_score\n",
        "from sklearn.metrics import make_scorer\n",
        "import keras_tuner as kt\n",
        "from tensorflow.python import metrics\n"
      ]
    },
    {
      "cell_type": "markdown",
      "metadata": {
        "id": "-Bb9oigiMAJL"
      },
      "source": [
        "# Model Implementation"
      ]
    },
    {
      "cell_type": "markdown",
      "metadata": {
        "id": "1XYv1wT9MX0A"
      },
      "source": [
        "**Read file**"
      ]
    },
    {
      "cell_type": "code",
      "execution_count": 3,
      "metadata": {
        "id": "FGXaVEOwMFPv"
      },
      "outputs": [],
      "source": [
        "df=pd.read_csv(\"/content/drive/MyDrive/Colab Notebooks/new_results.csv\")"
      ]
    },
    {
      "cell_type": "code",
      "execution_count": 4,
      "metadata": {
        "colab": {
          "base_uri": "https://localhost:8080/",
          "height": 404
        },
        "id": "PV0SqoQYMoXX",
        "outputId": "de74356f-701f-4a9e-b45c-1caea0c4b366"
      },
      "outputs": [
        {
          "output_type": "execute_result",
          "data": {
            "text/plain": [
              "   Unnamed: 0   Season  FTHG  FTAG  HTHG  HTAG  HS  AS  HST  AST  ...  \\\n",
              "0        2091  2012-13     0     0     0     0   5  11    1    7  ...   \n",
              "1        4407  2014-15     5     0     3     0  16   8    9    1  ...   \n",
              "2        7459  2005-06     4     0     1     0  11  11    8    6  ...   \n",
              "3        2832  2019-20     0     2     0     0  18  13    7    5  ...   \n",
              "4        7214  2014-15     0     1     0     0   7  10    1    4  ...   \n",
              "\n",
              "   AwayTeam_West Brom  AwayTeam_West Ham  AwayTeam_Wigan  AwayTeam_Wolves  \\\n",
              "0                   0                  0               0                0   \n",
              "1                   0                  0               0                0   \n",
              "2                   0                  0               0                0   \n",
              "3                   0                  0               0                0   \n",
              "4                   1                  0               0                0   \n",
              "\n",
              "   FTR_A  FTR_D  FTR_H  HTR_A  HTR_D  HTR_H  \n",
              "0      0      1      0      0      1      0  \n",
              "1      0      0      1      0      0      1  \n",
              "2      0      0      1      0      0      1  \n",
              "3      1      0      0      0      1      0  \n",
              "4      1      0      0      0      1      0  \n",
              "\n",
              "[5 rows x 105 columns]"
            ],
            "text/html": [
              "\n",
              "  <div id=\"df-0784e751-3cb3-4531-a771-9ff640ab7962\">\n",
              "    <div class=\"colab-df-container\">\n",
              "      <div>\n",
              "<style scoped>\n",
              "    .dataframe tbody tr th:only-of-type {\n",
              "        vertical-align: middle;\n",
              "    }\n",
              "\n",
              "    .dataframe tbody tr th {\n",
              "        vertical-align: top;\n",
              "    }\n",
              "\n",
              "    .dataframe thead th {\n",
              "        text-align: right;\n",
              "    }\n",
              "</style>\n",
              "<table border=\"1\" class=\"dataframe\">\n",
              "  <thead>\n",
              "    <tr style=\"text-align: right;\">\n",
              "      <th></th>\n",
              "      <th>Unnamed: 0</th>\n",
              "      <th>Season</th>\n",
              "      <th>FTHG</th>\n",
              "      <th>FTAG</th>\n",
              "      <th>HTHG</th>\n",
              "      <th>HTAG</th>\n",
              "      <th>HS</th>\n",
              "      <th>AS</th>\n",
              "      <th>HST</th>\n",
              "      <th>AST</th>\n",
              "      <th>...</th>\n",
              "      <th>AwayTeam_West Brom</th>\n",
              "      <th>AwayTeam_West Ham</th>\n",
              "      <th>AwayTeam_Wigan</th>\n",
              "      <th>AwayTeam_Wolves</th>\n",
              "      <th>FTR_A</th>\n",
              "      <th>FTR_D</th>\n",
              "      <th>FTR_H</th>\n",
              "      <th>HTR_A</th>\n",
              "      <th>HTR_D</th>\n",
              "      <th>HTR_H</th>\n",
              "    </tr>\n",
              "  </thead>\n",
              "  <tbody>\n",
              "    <tr>\n",
              "      <th>0</th>\n",
              "      <td>2091</td>\n",
              "      <td>2012-13</td>\n",
              "      <td>0</td>\n",
              "      <td>0</td>\n",
              "      <td>0</td>\n",
              "      <td>0</td>\n",
              "      <td>5</td>\n",
              "      <td>11</td>\n",
              "      <td>1</td>\n",
              "      <td>7</td>\n",
              "      <td>...</td>\n",
              "      <td>0</td>\n",
              "      <td>0</td>\n",
              "      <td>0</td>\n",
              "      <td>0</td>\n",
              "      <td>0</td>\n",
              "      <td>1</td>\n",
              "      <td>0</td>\n",
              "      <td>0</td>\n",
              "      <td>1</td>\n",
              "      <td>0</td>\n",
              "    </tr>\n",
              "    <tr>\n",
              "      <th>1</th>\n",
              "      <td>4407</td>\n",
              "      <td>2014-15</td>\n",
              "      <td>5</td>\n",
              "      <td>0</td>\n",
              "      <td>3</td>\n",
              "      <td>0</td>\n",
              "      <td>16</td>\n",
              "      <td>8</td>\n",
              "      <td>9</td>\n",
              "      <td>1</td>\n",
              "      <td>...</td>\n",
              "      <td>0</td>\n",
              "      <td>0</td>\n",
              "      <td>0</td>\n",
              "      <td>0</td>\n",
              "      <td>0</td>\n",
              "      <td>0</td>\n",
              "      <td>1</td>\n",
              "      <td>0</td>\n",
              "      <td>0</td>\n",
              "      <td>1</td>\n",
              "    </tr>\n",
              "    <tr>\n",
              "      <th>2</th>\n",
              "      <td>7459</td>\n",
              "      <td>2005-06</td>\n",
              "      <td>4</td>\n",
              "      <td>0</td>\n",
              "      <td>1</td>\n",
              "      <td>0</td>\n",
              "      <td>11</td>\n",
              "      <td>11</td>\n",
              "      <td>8</td>\n",
              "      <td>6</td>\n",
              "      <td>...</td>\n",
              "      <td>0</td>\n",
              "      <td>0</td>\n",
              "      <td>0</td>\n",
              "      <td>0</td>\n",
              "      <td>0</td>\n",
              "      <td>0</td>\n",
              "      <td>1</td>\n",
              "      <td>0</td>\n",
              "      <td>0</td>\n",
              "      <td>1</td>\n",
              "    </tr>\n",
              "    <tr>\n",
              "      <th>3</th>\n",
              "      <td>2832</td>\n",
              "      <td>2019-20</td>\n",
              "      <td>0</td>\n",
              "      <td>2</td>\n",
              "      <td>0</td>\n",
              "      <td>0</td>\n",
              "      <td>18</td>\n",
              "      <td>13</td>\n",
              "      <td>7</td>\n",
              "      <td>5</td>\n",
              "      <td>...</td>\n",
              "      <td>0</td>\n",
              "      <td>0</td>\n",
              "      <td>0</td>\n",
              "      <td>0</td>\n",
              "      <td>1</td>\n",
              "      <td>0</td>\n",
              "      <td>0</td>\n",
              "      <td>0</td>\n",
              "      <td>1</td>\n",
              "      <td>0</td>\n",
              "    </tr>\n",
              "    <tr>\n",
              "      <th>4</th>\n",
              "      <td>7214</td>\n",
              "      <td>2014-15</td>\n",
              "      <td>0</td>\n",
              "      <td>1</td>\n",
              "      <td>0</td>\n",
              "      <td>0</td>\n",
              "      <td>7</td>\n",
              "      <td>10</td>\n",
              "      <td>1</td>\n",
              "      <td>4</td>\n",
              "      <td>...</td>\n",
              "      <td>1</td>\n",
              "      <td>0</td>\n",
              "      <td>0</td>\n",
              "      <td>0</td>\n",
              "      <td>1</td>\n",
              "      <td>0</td>\n",
              "      <td>0</td>\n",
              "      <td>0</td>\n",
              "      <td>1</td>\n",
              "      <td>0</td>\n",
              "    </tr>\n",
              "  </tbody>\n",
              "</table>\n",
              "<p>5 rows × 105 columns</p>\n",
              "</div>\n",
              "      <button class=\"colab-df-convert\" onclick=\"convertToInteractive('df-0784e751-3cb3-4531-a771-9ff640ab7962')\"\n",
              "              title=\"Convert this dataframe to an interactive table.\"\n",
              "              style=\"display:none;\">\n",
              "        \n",
              "  <svg xmlns=\"http://www.w3.org/2000/svg\" height=\"24px\"viewBox=\"0 0 24 24\"\n",
              "       width=\"24px\">\n",
              "    <path d=\"M0 0h24v24H0V0z\" fill=\"none\"/>\n",
              "    <path d=\"M18.56 5.44l.94 2.06.94-2.06 2.06-.94-2.06-.94-.94-2.06-.94 2.06-2.06.94zm-11 1L8.5 8.5l.94-2.06 2.06-.94-2.06-.94L8.5 2.5l-.94 2.06-2.06.94zm10 10l.94 2.06.94-2.06 2.06-.94-2.06-.94-.94-2.06-.94 2.06-2.06.94z\"/><path d=\"M17.41 7.96l-1.37-1.37c-.4-.4-.92-.59-1.43-.59-.52 0-1.04.2-1.43.59L10.3 9.45l-7.72 7.72c-.78.78-.78 2.05 0 2.83L4 21.41c.39.39.9.59 1.41.59.51 0 1.02-.2 1.41-.59l7.78-7.78 2.81-2.81c.8-.78.8-2.07 0-2.86zM5.41 20L4 18.59l7.72-7.72 1.47 1.35L5.41 20z\"/>\n",
              "  </svg>\n",
              "      </button>\n",
              "      \n",
              "  <style>\n",
              "    .colab-df-container {\n",
              "      display:flex;\n",
              "      flex-wrap:wrap;\n",
              "      gap: 12px;\n",
              "    }\n",
              "\n",
              "    .colab-df-convert {\n",
              "      background-color: #E8F0FE;\n",
              "      border: none;\n",
              "      border-radius: 50%;\n",
              "      cursor: pointer;\n",
              "      display: none;\n",
              "      fill: #1967D2;\n",
              "      height: 32px;\n",
              "      padding: 0 0 0 0;\n",
              "      width: 32px;\n",
              "    }\n",
              "\n",
              "    .colab-df-convert:hover {\n",
              "      background-color: #E2EBFA;\n",
              "      box-shadow: 0px 1px 2px rgba(60, 64, 67, 0.3), 0px 1px 3px 1px rgba(60, 64, 67, 0.15);\n",
              "      fill: #174EA6;\n",
              "    }\n",
              "\n",
              "    [theme=dark] .colab-df-convert {\n",
              "      background-color: #3B4455;\n",
              "      fill: #D2E3FC;\n",
              "    }\n",
              "\n",
              "    [theme=dark] .colab-df-convert:hover {\n",
              "      background-color: #434B5C;\n",
              "      box-shadow: 0px 1px 3px 1px rgba(0, 0, 0, 0.15);\n",
              "      filter: drop-shadow(0px 1px 2px rgba(0, 0, 0, 0.3));\n",
              "      fill: #FFFFFF;\n",
              "    }\n",
              "  </style>\n",
              "\n",
              "      <script>\n",
              "        const buttonEl =\n",
              "          document.querySelector('#df-0784e751-3cb3-4531-a771-9ff640ab7962 button.colab-df-convert');\n",
              "        buttonEl.style.display =\n",
              "          google.colab.kernel.accessAllowed ? 'block' : 'none';\n",
              "\n",
              "        async function convertToInteractive(key) {\n",
              "          const element = document.querySelector('#df-0784e751-3cb3-4531-a771-9ff640ab7962');\n",
              "          const dataTable =\n",
              "            await google.colab.kernel.invokeFunction('convertToInteractive',\n",
              "                                                     [key], {});\n",
              "          if (!dataTable) return;\n",
              "\n",
              "          const docLinkHtml = 'Like what you see? Visit the ' +\n",
              "            '<a target=\"_blank\" href=https://colab.research.google.com/notebooks/data_table.ipynb>data table notebook</a>'\n",
              "            + ' to learn more about interactive tables.';\n",
              "          element.innerHTML = '';\n",
              "          dataTable['output_type'] = 'display_data';\n",
              "          await google.colab.output.renderOutput(dataTable, element);\n",
              "          const docLink = document.createElement('div');\n",
              "          docLink.innerHTML = docLinkHtml;\n",
              "          element.appendChild(docLink);\n",
              "        }\n",
              "      </script>\n",
              "    </div>\n",
              "  </div>\n",
              "  "
            ]
          },
          "metadata": {},
          "execution_count": 4
        }
      ],
      "source": [
        "df.head()"
      ]
    },
    {
      "cell_type": "markdown",
      "metadata": {
        "id": "C2_JrjZIC45q"
      },
      "source": [
        "**Splitting data to feature and target**"
      ]
    },
    {
      "cell_type": "code",
      "execution_count": 5,
      "metadata": {
        "id": "whEIYm0lEoDm"
      },
      "outputs": [],
      "source": [
        "feature=df.drop([\"Season\",\"N_FTR\",\"Unnamed: 0\"],axis = 1)\n",
        "target=df[\"N_FTR\"]"
      ]
    },
    {
      "cell_type": "code",
      "execution_count": 6,
      "metadata": {
        "colab": {
          "base_uri": "https://localhost:8080/"
        },
        "id": "xMYXTRajUQMC",
        "outputId": "d85f57bb-3856-4e37-83c9-ab784ac4f5de"
      },
      "outputs": [
        {
          "output_type": "execute_result",
          "data": {
            "text/plain": [
              "0       2\n",
              "1       2\n",
              "2       0\n",
              "3       2\n",
              "4       1\n",
              "       ..\n",
              "6801    2\n",
              "6802    2\n",
              "6803    1\n",
              "6804    2\n",
              "6805    0\n",
              "Name: N_FTR, Length: 6806, dtype: int64"
            ]
          },
          "metadata": {},
          "execution_count": 6
        }
      ],
      "source": [
        "target"
      ]
    },
    {
      "cell_type": "code",
      "execution_count": 7,
      "metadata": {
        "id": "YzUTc4aTS20A"
      },
      "outputs": [],
      "source": [
        "target=tf.keras.utils.to_categorical(target, num_classes=3)"
      ]
    },
    {
      "cell_type": "code",
      "execution_count": 8,
      "metadata": {
        "colab": {
          "base_uri": "https://localhost:8080/"
        },
        "id": "tTvYaZ4HUDVn",
        "outputId": "f216f837-fa6f-41f1-b5ee-e684e8d6ab89"
      },
      "outputs": [
        {
          "output_type": "execute_result",
          "data": {
            "text/plain": [
              "array([[0., 0., 1.],\n",
              "       [0., 0., 1.],\n",
              "       [1., 0., 0.],\n",
              "       ...,\n",
              "       [0., 1., 0.],\n",
              "       [0., 0., 1.],\n",
              "       [1., 0., 0.]], dtype=float32)"
            ]
          },
          "metadata": {},
          "execution_count": 8
        }
      ],
      "source": [
        "target"
      ]
    },
    {
      "cell_type": "markdown",
      "metadata": {
        "id": "se7fxHe9Fs9c"
      },
      "source": [
        "**Spliting Data to train and test**"
      ]
    },
    {
      "cell_type": "code",
      "execution_count": 9,
      "metadata": {
        "id": "GL9L1g3dFWSN"
      },
      "outputs": [],
      "source": [
        "X_train, X_test, y_train, y_test = train_test_split(feature, target, test_size=0.20, random_state=1)"
      ]
    },
    {
      "cell_type": "markdown",
      "metadata": {
        "id": "jOeaopvECpcO"
      },
      "source": [
        "**change data type to tensor**"
      ]
    },
    {
      "cell_type": "code",
      "execution_count": 10,
      "metadata": {
        "id": "DambiuYtCt-k"
      },
      "outputs": [],
      "source": [
        "X_train=tf.convert_to_tensor(X_train)\n",
        "y_train=tf.convert_to_tensor(y_train)"
      ]
    },
    {
      "cell_type": "code",
      "execution_count": 11,
      "metadata": {
        "id": "lK2OnRr_C3mM"
      },
      "outputs": [],
      "source": [
        "X_test=tf.convert_to_tensor(X_test)\n",
        "y_test=tf.convert_to_tensor(y_test)"
      ]
    },
    {
      "cell_type": "code",
      "execution_count": 12,
      "metadata": {
        "colab": {
          "base_uri": "https://localhost:8080/"
        },
        "id": "L782OzfBpjlj",
        "outputId": "ffe52a77-ed8b-4a4c-a364-9deae24a4552"
      },
      "outputs": [
        {
          "output_type": "execute_result",
          "data": {
            "text/plain": [
              "TensorShape([5444, 102])"
            ]
          },
          "metadata": {},
          "execution_count": 12
        }
      ],
      "source": [
        "X_train.shape"
      ]
    },
    {
      "cell_type": "code",
      "execution_count": 13,
      "metadata": {
        "colab": {
          "base_uri": "https://localhost:8080/"
        },
        "id": "drQg_H-iAOop",
        "outputId": "a52d4f27-6b55-43f5-ea75-0f2c87387de0"
      },
      "outputs": [
        {
          "output_type": "execute_result",
          "data": {
            "text/plain": [
              "TensorShape([5444, 3])"
            ]
          },
          "metadata": {},
          "execution_count": 13
        }
      ],
      "source": [
        "y_train.shape"
      ]
    },
    {
      "cell_type": "code",
      "execution_count": 14,
      "metadata": {
        "colab": {
          "base_uri": "https://localhost:8080/"
        },
        "id": "8jpPcgjTCnUR",
        "outputId": "b210f1e5-03b8-4e14-83e1-480cb554fa28"
      },
      "outputs": [
        {
          "output_type": "execute_result",
          "data": {
            "text/plain": [
              "<tf.Tensor: shape=(5444, 3), dtype=float32, numpy=\n",
              "array([[1., 0., 0.],\n",
              "       [0., 0., 1.],\n",
              "       [0., 0., 1.],\n",
              "       ...,\n",
              "       [0., 0., 1.],\n",
              "       [0., 0., 1.],\n",
              "       [0., 1., 0.]], dtype=float32)>"
            ]
          },
          "metadata": {},
          "execution_count": 14
        }
      ],
      "source": [
        "y_train"
      ]
    },
    {
      "cell_type": "code",
      "execution_count": 15,
      "metadata": {
        "colab": {
          "base_uri": "https://localhost:8080/"
        },
        "id": "FzsAXjVwD-F4",
        "outputId": "98c357a6-d7b8-426c-c045-e3e4e004e28c"
      },
      "outputs": [
        {
          "output_type": "execute_result",
          "data": {
            "text/plain": [
              "<tf.Tensor: shape=(1362, 3), dtype=float32, numpy=\n",
              "array([[0., 0., 1.],\n",
              "       [1., 0., 0.],\n",
              "       [1., 0., 0.],\n",
              "       ...,\n",
              "       [0., 0., 1.],\n",
              "       [0., 0., 1.],\n",
              "       [0., 1., 0.]], dtype=float32)>"
            ]
          },
          "metadata": {},
          "execution_count": 15
        }
      ],
      "source": [
        "y_test"
      ]
    },
    {
      "cell_type": "markdown",
      "metadata": {
        "id": "JBk_QY04Petc"
      },
      "source": [
        "**Define Sequential model with 4 layers**"
      ]
    },
    {
      "cell_type": "code",
      "execution_count": 16,
      "metadata": {
        "id": "_fz4cwoS2AOs"
      },
      "outputs": [],
      "source": [
        "def model_builder(hp):\n",
        "  model = tf.keras.Sequential()\n",
        "  model.add(tf.keras.layers.Dense(102,activation=\"relu\",input_dim=102,name=\"input_layer\"))\n",
        "  hp_layer_2 = hp.Int(\"layer_2\",min_value=1,max_value=100)\n",
        "  hp_layer_3 = hp.Int(\"layer_3\",min_value=1,max_value=100)\n",
        "\n",
        "\n",
        "  model.add(tf.keras.layers.Dense(units=hp_layer_2,activation=\"relu\",name=\"L2\"))\n",
        "  model.add(tf.keras.layers.Dense(units=hp_layer_3,activation=\"relu\",name=\"L3\"))\n",
        "\n",
        "  model.add(tf.keras.layers.Dense(3,activation=\"softmax\",name=\"output_layer\"))\n",
        "\n",
        "  model.compile(optimizer=\"adam\",loss='categorical_crossentropy',metrics=[\"accuracy\"])\n",
        "\n",
        "\n",
        "  return model"
      ]
    },
    {
      "cell_type": "code",
      "execution_count": 17,
      "metadata": {
        "id": "80t6-Kl3QNT8"
      },
      "outputs": [],
      "source": [
        "tuner =kt.Hyperband(model_builder,objective=\"val_accuracy\",max_epochs=50)"
      ]
    },
    {
      "cell_type": "code",
      "execution_count": 18,
      "metadata": {
        "id": "wLQ3xo1PQ6-h"
      },
      "outputs": [],
      "source": [
        "stop_early= tf.keras.callbacks.EarlyStopping(monitor=\"val_loss\",patience=3)"
      ]
    },
    {
      "cell_type": "code",
      "execution_count": 19,
      "metadata": {
        "colab": {
          "base_uri": "https://localhost:8080/"
        },
        "id": "VeU0A6ZKRPiY",
        "outputId": "578b1b40-da0a-45e2-b471-578ba4c72337"
      },
      "outputs": [
        {
          "output_type": "stream",
          "name": "stdout",
          "text": [
            "Trial 90 Complete [00h 00m 04s]\n",
            "val_accuracy: 0.516069769859314\n",
            "\n",
            "Best val_accuracy So Far: 0.5381083488464355\n",
            "Total elapsed time: 00h 06m 48s\n"
          ]
        }
      ],
      "source": [
        "from pandas.core.common import random_state\n",
        "tuner.search(X_train,y_train,epochs=50,validation_split=0.2,callbacks=[stop_early])"
      ]
    },
    {
      "cell_type": "code",
      "execution_count": 20,
      "metadata": {
        "id": "2Fe9Me7LSTZB",
        "colab": {
          "base_uri": "https://localhost:8080/"
        },
        "outputId": "bcd6d54e-9101-4bc9-81c4-323519b0fcdd"
      },
      "outputs": [
        {
          "output_type": "execute_result",
          "data": {
            "text/plain": [
              "<keras_tuner.engine.hyperparameters.HyperParameters at 0x7f901055ac40>"
            ]
          },
          "metadata": {},
          "execution_count": 20
        }
      ],
      "source": [
        "best_hp=tuner.get_best_hyperparameters(num_trials=1)[0]\n",
        "best_hp"
      ]
    },
    {
      "cell_type": "code",
      "execution_count": 21,
      "metadata": {
        "id": "fLJ-bvCxSi3n"
      },
      "outputs": [],
      "source": [
        "model=tuner.hypermodel.build(best_hp)"
      ]
    },
    {
      "cell_type": "code",
      "execution_count": 22,
      "metadata": {
        "colab": {
          "base_uri": "https://localhost:8080/"
        },
        "id": "PfiA9vV637HA",
        "outputId": "eb15903f-4b89-419c-d7c6-a825d68670a4"
      },
      "outputs": [
        {
          "output_type": "stream",
          "name": "stdout",
          "text": [
            "Model: \"sequential_1\"\n",
            "_________________________________________________________________\n",
            " Layer (type)                Output Shape              Param #   \n",
            "=================================================================\n",
            " input_layer (Dense)         (None, 102)               10506     \n",
            "                                                                 \n",
            " L2 (Dense)                  (None, 95)                9785      \n",
            "                                                                 \n",
            " L3 (Dense)                  (None, 16)                1536      \n",
            "                                                                 \n",
            " output_layer (Dense)        (None, 3)                 51        \n",
            "                                                                 \n",
            "=================================================================\n",
            "Total params: 21,878\n",
            "Trainable params: 21,878\n",
            "Non-trainable params: 0\n",
            "_________________________________________________________________\n"
          ]
        }
      ],
      "source": [
        "model.summary()"
      ]
    },
    {
      "cell_type": "code",
      "execution_count": 23,
      "metadata": {
        "colab": {
          "base_uri": "https://localhost:8080/"
        },
        "id": "2hh10sBa_JPO",
        "outputId": "abcaefe1-8701-48ca-f118-659ccb398e79"
      },
      "outputs": [
        {
          "output_type": "stream",
          "name": "stdout",
          "text": [
            "Epoch 1/50\n",
            "436/436 [==============================] - 2s 3ms/step - loss: 1.0679 - accuracy: 0.4776 - val_loss: 1.0357 - val_accuracy: 0.5005\n",
            "Epoch 2/50\n",
            "436/436 [==============================] - 2s 3ms/step - loss: 1.0341 - accuracy: 0.4928 - val_loss: 1.0181 - val_accuracy: 0.5087\n",
            "Epoch 3/50\n",
            "436/436 [==============================] - 1s 3ms/step - loss: 1.0204 - accuracy: 0.5010 - val_loss: 1.0299 - val_accuracy: 0.4986\n",
            "Epoch 4/50\n",
            "436/436 [==============================] - 2s 3ms/step - loss: 1.0074 - accuracy: 0.5148 - val_loss: 1.0258 - val_accuracy: 0.5087\n",
            "Epoch 5/50\n",
            "436/436 [==============================] - 1s 3ms/step - loss: 0.9977 - accuracy: 0.5219 - val_loss: 1.0212 - val_accuracy: 0.5133\n"
          ]
        }
      ],
      "source": [
        "history=model.fit(X_train,y_train,epochs=50,validation_split=0.2,callbacks=[stop_early],batch_size=10)"
      ]
    },
    {
      "cell_type": "markdown",
      "metadata": {
        "id": "DQtTz7Jl-cEI"
      },
      "source": [
        "**model accuracy and loss graph**"
      ]
    },
    {
      "cell_type": "code",
      "execution_count": 23,
      "metadata": {
        "id": "5HTUPaDB-g4u"
      },
      "outputs": [],
      "source": []
    },
    {
      "cell_type": "code",
      "execution_count": 24,
      "metadata": {
        "colab": {
          "base_uri": "https://localhost:8080/",
          "height": 573
        },
        "id": "PIkVZ7138t7b",
        "outputId": "03c6665d-da32-4cef-f2df-a14e46b6bdec"
      },
      "outputs": [
        {
          "output_type": "display_data",
          "data": {
            "text/plain": [
              "<Figure size 432x288 with 1 Axes>"
            ],
            "image/png": "[encoded data removed]"
          },
          "metadata": {
            "needs_background": "light"
          }
        },
        {
          "output_type": "display_data",
          "data": {
            "text/plain": [
              "<Figure size 432x288 with 1 Axes>"
            ],
            "image/png": "[encoded data removed]"
          },
          "metadata": {
            "needs_background": "light"
          }
        }
      ],
      "source": [
        "plt.plot(history.history['accuracy'])\n",
        "plt.title('model accuracy')\n",
        "plt.ylabel('accuracy')\n",
        "plt.xlabel('epoch')\n",
        "plt.legend(['train'], loc='upper left')\n",
        "plt.show()\n",
        "plt.plot(history.history['loss'])\n",
        "plt.title('model loss')\n",
        "plt.ylabel('loss')\n",
        "plt.xlabel('epoch')\n",
        "plt.legend(['train'], loc='upper left')\n",
        "plt.show()"
      ]
    },
    {
      "cell_type": "markdown",
      "metadata": {
        "id": "AY0S6C1y-jSW"
      },
      "source": [
        "**test model**"
      ]
    },
    {
      "cell_type": "code",
      "execution_count": 25,
      "metadata": {
        "colab": {
          "base_uri": "https://localhost:8080/"
        },
        "id": "R1lXSN-Z_TS8",
        "outputId": "09a8074b-f5d8-4c33-f23f-15ead7e90531"
      },
      "outputs": [
        {
          "output_type": "stream",
          "name": "stdout",
          "text": [
            "43/43 [==============================] - 0s 2ms/step - loss: 1.0073 - accuracy: 0.5301\n",
            "Test Score: 1.0073316097259521\n",
            "Test Accuracy: 0.5301027894020081\n"
          ]
        }
      ],
      "source": [
        "score = model.evaluate(X_test, y_test, verbose=1)\n",
        "print(\"Test Score:\", score[0])\n",
        "print(\"Test Accuracy:\", score[1])\n"
      ]
    },
    {
      "cell_type": "code",
      "execution_count": 26,
      "metadata": {
        "colab": {
          "base_uri": "https://localhost:8080/"
        },
        "id": "7sg9Zaq28rLU",
        "outputId": "82ccc45b-b125-4b51-c7a2-8845c4d4eda6"
      },
      "outputs": [
        {
          "output_type": "stream",
          "name": "stdout",
          "text": [
            "43/43 [==============================] - 0s 1ms/step\n"
          ]
        }
      ],
      "source": [
        "pred=model.predict(X_test)\n",
        "pred=np.argmax(pred,axis=1)\n",
        "y_test=np.argmax(y_test,axis=1)"
      ]
    },
    {
      "cell_type": "code",
      "execution_count": 27,
      "metadata": {
        "colab": {
          "base_uri": "https://localhost:8080/"
        },
        "id": "cc69syUl51iQ",
        "outputId": "88735a32-ba90-48cd-af4c-43f7baeaeb6d"
      },
      "outputs": [
        {
          "output_type": "execute_result",
          "data": {
            "text/plain": [
              "array([2, 2, 2, ..., 2, 2, 2])"
            ]
          },
          "metadata": {},
          "execution_count": 27
        }
      ],
      "source": [
        "pred"
      ]
    },
    {
      "cell_type": "code",
      "execution_count": 28,
      "metadata": {
        "colab": {
          "base_uri": "https://localhost:8080/"
        },
        "id": "WyTd0TCZBtIA",
        "outputId": "4580c8cb-24cf-4156-f389-553b3c5c37fa"
      },
      "outputs": [
        {
          "output_type": "stream",
          "name": "stdout",
          "text": [
            "Home:2, Away:0, Draw:1\n",
            "predected: 2,    expected: 2\n",
            "predected: 2,    expected: 0\n",
            "predected: 2,    expected: 0\n",
            "predected: 0,    expected: 0\n",
            "predected: 0,    expected: 2\n",
            "predected: 0,    expected: 1\n",
            "predected: 0,    expected: 1\n",
            "predected: 2,    expected: 1\n",
            "predected: 0,    expected: 0\n",
            "predected: 0,    expected: 0\n",
            "predected: 0,    expected: 0\n",
            "predected: 0,    expected: 0\n",
            "predected: 0,    expected: 0\n",
            "predected: 2,    expected: 1\n",
            "predected: 2,    expected: 1\n",
            "predected: 0,    expected: 0\n",
            "predected: 2,    expected: 2\n",
            "predected: 0,    expected: 0\n",
            "predected: 2,    expected: 1\n",
            "predected: 2,    expected: 2\n"
          ]
        }
      ],
      "source": [
        "print(\"Home:2, Away:0, Draw:1\")\n",
        "for i in range(20):\n",
        "  print(f\"predected: {pred[i]},    expected: {y_test[i]}\")"
      ]
    },
    {
      "cell_type": "code",
      "execution_count": 28,
      "metadata": {
        "id": "i0osnC9uqyFu"
      },
      "outputs": [],
      "source": []
    }
  ],
  "metadata": {
    "accelerator": "GPU",
    "colab": {
      "provenance": []
    },
    "gpuClass": "standard",
    "kernelspec": {
      "display_name": "Python 3",
      "name": "python3"
    },
    "language_info": {
      "name": "python"
    }
  },
  "nbformat": 4,
  "nbformat_minor": 0
}