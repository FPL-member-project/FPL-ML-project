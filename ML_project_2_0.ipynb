{
  "nbformat": 4,
  "nbformat_minor": 0,
  "metadata": {
    "colab": {
      "provenance": []
    },
    "kernelspec": {
      "name": "python3",
      "display_name": "Python 3"
    },
    "language_info": {
      "name": "python"
    }
  },
  "cells": [
    {
      "cell_type": "markdown",
      "source": [
        "  **Packages** **Imported** "
      ],
      "metadata": {
        "id": "TCb2Q3gSalPu"
      }
    },
    {
      "cell_type": "code",
      "execution_count": null,
      "metadata": {
        "id": "B15PGt_mag6A"
      },
      "outputs": [],
      "source": [
        "import pandas as pd\n",
        "import numpy as np\n",
        "import seaborn as sns\n",
        "from sklearn.model_selection import train_test_split"
      ]
    },
    {
      "cell_type": "markdown",
      "source": [
        "**Import** **Packages**"
      ],
      "metadata": {
        "id": "JnC3qWSEa7M8"
      }
    },
    {
      "cell_type": "code",
      "source": [
        "df=pd.read_csv(\"/content/merged_gw.csv\")\n",
        "df.info()"
      ],
      "metadata": {
        "colab": {
          "base_uri": "https://localhost:8080/"
        },
        "id": "qcgPdv6VazWF",
        "outputId": "17d8e9a8-788b-4b0a-91c0-f73337f2ba2f"
      },
      "execution_count": null,
      "outputs": [
        {
          "output_type": "stream",
          "name": "stdout",
          "text": [
            "<class 'pandas.core.frame.DataFrame'>\n",
            "RangeIndex: 25447 entries, 0 to 25446\n",
            "Data columns (total 36 columns):\n",
            " #   Column             Non-Null Count  Dtype  \n",
            "---  ------             --------------  -----  \n",
            " 0   name               25447 non-null  object \n",
            " 1   position           25447 non-null  object \n",
            " 2   team               25447 non-null  object \n",
            " 3   xP                 25447 non-null  float64\n",
            " 4   assists            25447 non-null  int64  \n",
            " 5   bonus              25447 non-null  int64  \n",
            " 6   bps                25447 non-null  int64  \n",
            " 7   clean_sheets       25447 non-null  int64  \n",
            " 8   creativity         25447 non-null  float64\n",
            " 9   element            25447 non-null  int64  \n",
            " 10  fixture            25447 non-null  int64  \n",
            " 11  goals_conceded     25447 non-null  int64  \n",
            " 12  goals_scored       25447 non-null  int64  \n",
            " 13  ict_index          25447 non-null  float64\n",
            " 14  influence          25447 non-null  float64\n",
            " 15  kickoff_time       25447 non-null  object \n",
            " 16  minutes            25447 non-null  int64  \n",
            " 17  opponent_team      25447 non-null  int64  \n",
            " 18  own_goals          25447 non-null  int64  \n",
            " 19  penalties_missed   25447 non-null  int64  \n",
            " 20  penalties_saved    25447 non-null  int64  \n",
            " 21  red_cards          25447 non-null  int64  \n",
            " 22  round              25447 non-null  int64  \n",
            " 23  saves              25447 non-null  int64  \n",
            " 24  selected           25447 non-null  int64  \n",
            " 25  team_a_score       25447 non-null  int64  \n",
            " 26  team_h_score       25447 non-null  int64  \n",
            " 27  threat             25447 non-null  float64\n",
            " 28  total_points       25447 non-null  int64  \n",
            " 29  transfers_balance  25447 non-null  int64  \n",
            " 30  transfers_in       25447 non-null  int64  \n",
            " 31  transfers_out      25447 non-null  int64  \n",
            " 32  value              25447 non-null  int64  \n",
            " 33  was_home           25447 non-null  bool   \n",
            " 34  yellow_cards       25447 non-null  int64  \n",
            " 35  GW                 25447 non-null  int64  \n",
            "dtypes: bool(1), float64(5), int64(26), object(4)\n",
            "memory usage: 6.8+ MB\n"
          ]
        }
      ]
    },
    {
      "cell_type": "code",
      "source": [
        "teams=pd.read_csv(\"/content/teams.csv\")"
      ],
      "metadata": {
        "id": "kpy47CAtbNmQ"
      },
      "execution_count": null,
      "outputs": []
    },
    {
      "cell_type": "markdown",
      "source": [
        "**Extract some data from teams to df**"
      ],
      "metadata": {
        "id": "zfQ-PiVFbt-d"
      }
    },
    {
      "cell_type": "code",
      "source": [
        "d = teams.set_index('id')['strength'].to_dict()\n",
        "df['opp_strength'] = df['opponent_team'].map(d)\n",
        "\n",
        "d = teams.set_index('id')['strength_overall_home'].to_dict()\n",
        "df['opp_strength_overall_home'] = df['opponent_team'].map(d)\n",
        "\n",
        "d = teams.set_index('id')['strength_overall_away'].to_dict()\n",
        "df['opp_strength_overall_away'] = df['opponent_team'].map(d)\n",
        "\n",
        "d = teams.set_index('id')['strength_attack_home'].to_dict()\n",
        "df['opp_strength_attack_home'] = df['opponent_team'].map(d)\n",
        "\n",
        "d = teams.set_index('id')['strength_attack_away'].to_dict()\n",
        "df['opp_strength_attack_away'] = df['opponent_team'].map(d)\n",
        "\n",
        "d = teams.set_index('id')['strength_defence_home'].to_dict()\n",
        "df['opp_strength_defence_home'] = df['opponent_team'].map(d)\n",
        "\n",
        "d = teams.set_index('id')['strength_defence_away'].to_dict()\n",
        "df['opp_strength_defence_away'] = df['opponent_team'].map(d)\n",
        "\n",
        "#################\n",
        "d = teams.set_index('name')['strength'].to_dict()\n",
        "df['strength'] = df['team'].map(d)\n",
        "\n",
        "d = teams.set_index('name')['strength_overall_home'].to_dict()\n",
        "df['strength_overall_home'] = df['team'].map(d)\n",
        "\n",
        "d = teams.set_index('name')['strength_overall_away'].to_dict()\n",
        "df['strength_overall_away'] = df['team'].map(d)\n",
        "\n",
        "d = teams.set_index('name')['strength_attack_home'].to_dict()\n",
        "df['strength_attack_home'] = df['team'].map(d)\n",
        "\n",
        "d = teams.set_index('name')['strength_attack_away'].to_dict()\n",
        "df['strength_attack_away'] = df['team'].map(d)\n",
        "\n",
        "d = teams.set_index('name')['strength_defence_home'].to_dict()\n",
        "df['strength_defence_home'] = df['team'].map(d)\n",
        "\n",
        "d = teams.set_index('name')['strength_defence_away'].to_dict()\n",
        "df['strength_defence_away'] = df['team'].map(d)"
      ],
      "metadata": {
        "id": "pxcRKDJMb0Qx"
      },
      "execution_count": null,
      "outputs": []
    },
    {
      "cell_type": "markdown",
      "source": [
        "# Data preprocessing "
      ],
      "metadata": {
        "id": "G-FCOH-4dCWs"
      }
    },
    {
      "cell_type": "code",
      "source": [
        "df2=df.sort_values(by=['name',\"GW\"])"
      ],
      "metadata": {
        "id": "YUINEwxefY0Y"
      },
      "execution_count": null,
      "outputs": []
    },
    {
      "cell_type": "code",
      "source": [
        "df2 = df2.drop_duplicates(keep='first',subset=[\"GW\",\"name\"])"
      ],
      "metadata": {
        "id": "upE_krTZq40o"
      },
      "execution_count": null,
      "outputs": []
    },
    {
      "cell_type": "code",
      "source": [
        "df2 = df2.reset_index(drop=True)"
      ],
      "metadata": {
        "id": "4kBGWwPOO82R"
      },
      "execution_count": null,
      "outputs": []
    },
    {
      "cell_type": "markdown",
      "source": [
        "**Shift** **total** **point** "
      ],
      "metadata": {
        "id": "dqIcwMCfSRnI"
      }
    },
    {
      "cell_type": "code",
      "source": [
        "for i in range(1, len(df2)-1):\n",
        "  if (df2.loc[i+1,\"name\"]==df2.loc[i,\"name\"]) and (df2.loc[i+1,\"GW\"]==df2.loc[i,\"GW\"]+1):\n",
        "    df2.loc[i,\"total_points\"] = df2.loc[i+1,\"total_points\"]\n"
      ],
      "metadata": {
        "id": "4S2u-USrF9gz"
      },
      "execution_count": null,
      "outputs": []
    },
    {
      "cell_type": "code",
      "source": [
        "df2.drop(['kickoff_time'], axis = 1, inplace = True) "
      ],
      "metadata": {
        "id": "XGFKtokgVN41"
      },
      "execution_count": null,
      "outputs": []
    },
    {
      "cell_type": "markdown",
      "source": [
        "**Normalize Data**"
      ],
      "metadata": {
        "id": "U6UazkhlT_6t"
      }
    },
    {
      "cell_type": "code",
      "source": [
        "for column in df2.iloc[:,35:49]:\n",
        "    df2[column]=(df2[column] - df2[column].mean()) / df2[column].std() \n",
        "for column in df2.iloc[:,8:11]:\n",
        "    df2[column]=(df2[column] - df2[column].mean()) / df2[column].std() \n",
        "for column in df2.iloc[:,28:32]:\n",
        "    df2[column]=(df2[column] - df2[column].mean()) / df2[column].std() \n",
        "df2[\"selected\"]=(df2[\"selected\"] - df2[\"selected\"].mean()) / df2[\"selected\"].std() \n"
      ],
      "metadata": {
        "id": "xY0zh6umUD7O"
      },
      "execution_count": null,
      "outputs": []
    },
    {
      "cell_type": "markdown",
      "source": [
        "**EnCode**"
      ],
      "metadata": {
        "id": "s9FlN8tTSZbZ"
      }
    },
    {
      "cell_type": "code",
      "source": [
        "df2.was_home = df2.was_home.replace({True: 1, False: 0})"
      ],
      "metadata": {
        "id": "IaQMuVyHTvuy"
      },
      "execution_count": null,
      "outputs": []
    },
    {
      "cell_type": "markdown",
      "source": [
        "**Graph represent relation between position and points earned**"
      ],
      "metadata": {
        "id": "I0LB5QyfgtKU"
      }
    },
    {
      "cell_type": "code",
      "source": [
        "sns.barplot(data=df2, x=df2[\"position\"], y=df2[\"total_points\"])"
      ],
      "metadata": {
        "id": "mOE-u264gbjy",
        "colab": {
          "base_uri": "https://localhost:8080/",
          "height": 297
        },
        "outputId": "5ac0647f-958f-443c-de3a-b0322d739804"
      },
      "execution_count": null,
      "outputs": [
        {
          "output_type": "execute_result",
          "data": {
            "text/plain": [
              "<matplotlib.axes._subplots.AxesSubplot at 0x7eff74aa3160>"
            ]
          },
          "metadata": {},
          "execution_count": 293
        },
        {
          "output_type": "display_data",
          "data": {
            "text/plain": [
              "<Figure size 432x288 with 1 Axes>"
            ],
            "image/png": "[encoded data removed]"
          },
          "metadata": {
            "needs_background": "light"
          }
        }
      ]
    },
    {
      "cell_type": "markdown",
      "source": [
        "**Graph represent relation between position and goals scored**"
      ],
      "metadata": {
        "id": "vQItAgkCg9Us"
      }
    },
    {
      "cell_type": "code",
      "source": [
        "sns.barplot(data=df2, x=df2[\"position\"], y=df2[\"goals_scored\"])"
      ],
      "metadata": {
        "id": "JlEKYCYIgj4U",
        "colab": {
          "base_uri": "https://localhost:8080/",
          "height": 297
        },
        "outputId": "432b13bc-7aa4-43d2-863e-52df040968b1"
      },
      "execution_count": null,
      "outputs": [
        {
          "output_type": "execute_result",
          "data": {
            "text/plain": [
              "<matplotlib.axes._subplots.AxesSubplot at 0x7eff72bcb250>"
            ]
          },
          "metadata": {},
          "execution_count": 294
        },
        {
          "output_type": "display_data",
          "data": {
            "text/plain": [
              "<Figure size 432x288 with 1 Axes>"
            ],
            "image/png": "[encoded data removed]"
          },
          "metadata": {
            "needs_background": "light"
          }
        }
      ]
    },
    {
      "cell_type": "code",
      "source": [
        "df2 = pd.get_dummies(df2, columns = ['position'])"
      ],
      "metadata": {
        "id": "Jtyl0jULUgud"
      },
      "execution_count": null,
      "outputs": []
    },
    {
      "cell_type": "markdown",
      "source": [
        "**return dataframe to its original form**"
      ],
      "metadata": {
        "id": "immtiAA4b3D6"
      }
    },
    {
      "cell_type": "code",
      "source": [
        "df2=df2.sort_values(by=[\"GW\"])"
      ],
      "metadata": {
        "id": "BCxZT-X-b9fE"
      },
      "execution_count": null,
      "outputs": []
    },
    {
      "cell_type": "code",
      "source": [
        "df2 = df2.reset_index(drop=True)"
      ],
      "metadata": {
        "id": "BOyPFoLpcCWH"
      },
      "execution_count": null,
      "outputs": []
    },
    {
      "cell_type": "code",
      "source": [
        "df2.info()"
      ],
      "metadata": {
        "colab": {
          "base_uri": "https://localhost:8080/"
        },
        "id": "NmVW7yYRcDJN",
        "outputId": "14c03b35-5074-4e2d-c8b9-162aacd248e0"
      },
      "execution_count": null,
      "outputs": [
        {
          "output_type": "stream",
          "name": "stdout",
          "text": [
            "<class 'pandas.core.frame.DataFrame'>\n",
            "RangeIndex: 23194 entries, 0 to 23193\n",
            "Data columns (total 53 columns):\n",
            " #   Column                     Non-Null Count  Dtype  \n",
            "---  ------                     --------------  -----  \n",
            " 0   name                       23194 non-null  object \n",
            " 1   team                       23194 non-null  object \n",
            " 2   xP                         23194 non-null  float64\n",
            " 3   assists                    23194 non-null  int64  \n",
            " 4   bonus                      23194 non-null  int64  \n",
            " 5   bps                        23194 non-null  int64  \n",
            " 6   clean_sheets               23194 non-null  int64  \n",
            " 7   creativity                 23194 non-null  float64\n",
            " 8   element                    23194 non-null  float64\n",
            " 9   fixture                    23194 non-null  float64\n",
            " 10  goals_conceded             23194 non-null  int64  \n",
            " 11  goals_scored               23194 non-null  int64  \n",
            " 12  ict_index                  23194 non-null  float64\n",
            " 13  influence                  23194 non-null  float64\n",
            " 14  minutes                    23194 non-null  int64  \n",
            " 15  opponent_team              23194 non-null  int64  \n",
            " 16  own_goals                  23194 non-null  int64  \n",
            " 17  penalties_missed           23194 non-null  int64  \n",
            " 18  penalties_saved            23194 non-null  int64  \n",
            " 19  red_cards                  23194 non-null  int64  \n",
            " 20  round                      23194 non-null  int64  \n",
            " 21  saves                      23194 non-null  int64  \n",
            " 22  selected                   23194 non-null  float64\n",
            " 23  team_a_score               23194 non-null  int64  \n",
            " 24  team_h_score               23194 non-null  int64  \n",
            " 25  threat                     23194 non-null  float64\n",
            " 26  total_points               23194 non-null  int64  \n",
            " 27  transfers_balance          23194 non-null  float64\n",
            " 28  transfers_in               23194 non-null  float64\n",
            " 29  transfers_out              23194 non-null  float64\n",
            " 30  value                      23194 non-null  float64\n",
            " 31  was_home                   23194 non-null  int64  \n",
            " 32  yellow_cards               23194 non-null  int64  \n",
            " 33  GW                         23194 non-null  int64  \n",
            " 34  opp_strength               23194 non-null  float64\n",
            " 35  opp_strength_overall_home  23194 non-null  float64\n",
            " 36  opp_strength_overall_away  23194 non-null  float64\n",
            " 37  opp_strength_attack_home   23194 non-null  float64\n",
            " 38  opp_strength_attack_away   23194 non-null  float64\n",
            " 39  opp_strength_defence_home  23194 non-null  float64\n",
            " 40  opp_strength_defence_away  23194 non-null  float64\n",
            " 41  strength                   23194 non-null  float64\n",
            " 42  strength_overall_home      23194 non-null  float64\n",
            " 43  strength_overall_away      23194 non-null  float64\n",
            " 44  strength_attack_home       23194 non-null  float64\n",
            " 45  strength_attack_away       23194 non-null  float64\n",
            " 46  strength_defence_home      23194 non-null  float64\n",
            " 47  strength_defence_away      23194 non-null  float64\n",
            " 48  position_DEF               23194 non-null  uint8  \n",
            " 49  position_FWD               23194 non-null  uint8  \n",
            " 50  position_GK                23194 non-null  uint8  \n",
            " 51  position_GKP               23194 non-null  uint8  \n",
            " 52  position_MID               23194 non-null  uint8  \n",
            "dtypes: float64(26), int64(20), object(2), uint8(5)\n",
            "memory usage: 8.6+ MB\n"
          ]
        }
      ]
    },
    {
      "cell_type": "markdown",
      "source": [
        "# Model"
      ],
      "metadata": {
        "id": "l8K7OivMfCEB"
      }
    },
    {
      "cell_type": "markdown",
      "source": [
        "**Extract** **features** **and** **target**"
      ],
      "metadata": {
        "id": "bEz-kGHzfv-f"
      }
    },
    {
      "cell_type": "code",
      "source": [
        "feature = df2.drop('total_points',axis = 1)\n",
        "target = df2['total_points']"
      ],
      "metadata": {
        "id": "qR4NOtbscVjR"
      },
      "execution_count": null,
      "outputs": []
    },
    {
      "cell_type": "code",
      "source": [
        "feature.drop([\"name\", \"team\",\"GW\",\"round\"], axis = 1, inplace = True)"
      ],
      "metadata": {
        "id": "1Kvdl8oAhsv0"
      },
      "execution_count": null,
      "outputs": []
    },
    {
      "cell_type": "markdown",
      "source": [
        "**Spliting Data to train and test**"
      ],
      "metadata": {
        "id": "9sj_mgYyhTVR"
      }
    },
    {
      "cell_type": "code",
      "source": [
        "X_train, X_test, y_train, y_test = train_test_split(feature, target, test_size=0.20, random_state=0)"
      ],
      "metadata": {
        "id": "o_9-0rJghaYC"
      },
      "execution_count": null,
      "outputs": []
    },
    {
      "cell_type": "code",
      "source": [],
      "metadata": {
        "id": "eQdfreNVhy0F"
      },
      "execution_count": null,
      "outputs": []
    }
  ]
}